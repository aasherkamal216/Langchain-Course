{
 "cells": [
  {
   "cell_type": "markdown",
   "metadata": {},
   "source": [
    "# **Vectorstores**\n"
   ]
  },
  {
   "cell_type": "code",
   "execution_count": 1,
   "metadata": {},
   "outputs": [],
   "source": [
    "import os\n",
    "from dotenv import load_dotenv\n",
    "load_dotenv()\n",
    "from rich import print\n",
    "\n",
    "os.environ['COHERE_API_KEY'] = os.getenv('COHERE_API_KEY')"
   ]
  },
  {
   "cell_type": "markdown",
   "metadata": {},
   "source": [
    "## 1. FAISS - Facebook AI Similarity Search"
   ]
  },
  {
   "cell_type": "code",
   "execution_count": 2,
   "metadata": {},
   "outputs": [],
   "source": [
    "from langchain_community.document_loaders import TextLoader\n",
    "from langchain_text_splitters import CharacterTextSplitter\n",
    "from langchain_cohere import CohereEmbeddings\n",
    "from langchain_community.vectorstores import  FAISS\n",
    "\n",
    "# load the document\n",
    "loader = TextLoader(\"Data Transformation Simplified Expl.txt\")\n",
    "document = loader.load()\n",
    "# split the document into chunks\n",
    "text_splitter = CharacterTextSplitter(chunk_size=300, chunk_overlap=60)\n",
    "doc_chunks = text_splitter.split_documents(document)"
   ]
  },
  {
   "cell_type": "code",
   "execution_count": 3,
   "metadata": {},
   "outputs": [
    {
     "data": {
      "text/plain": [
       "[Document(metadata={'source': 'Data Transformation Simplified Expl.txt'}, page_content=\"Data Transformation: Simplified Explanation\\n\\nWhat is Data Transformation?\\nData transformation is like changing the way we measure things to make them easier to understand and compare. It's like converting inches to centimeters or changing dollars to euros to help with calculations and comparisons.\"),\n",
       " Document(metadata={'source': 'Data Transformation Simplified Expl.txt'}, page_content='Why and Where?\\nData transformation is important because it helps us work with data more effectively. We transform data to make it more useful for analysis and building models.'),\n",
       " Document(metadata={'source': 'Data Transformation Simplified Expl.txt'}, page_content='Practical Uses:\\n- Scaling: Changing the range or size of numbers.\\n- Normalization: Making data follow a certain pattern or shape.'),\n",
       " Document(metadata={'source': 'Data Transformation Simplified Expl.txt'}, page_content='Real-Life Example:\\nThink about temperatures. In some places, they use Celsius, and in others, Fahrenheit. If you want to compare temperatures accurately, you might convert everything to one scale, like Celsius.\\n\\nMin-Max Scaling: Simplified Explanation'),\n",
       " Document(metadata={'source': 'Data Transformation Simplified Expl.txt'}, page_content=\"Min-Max Scaling: Simplified Explanation\\n\\nStandard Scaling is like making all your numbers play nicely with each other by giving them a common center (average) and making sure they're all about the same distance (standard deviation) from that center.\"),\n",
       " Document(metadata={'source': 'Data Transformation Simplified Expl.txt'}, page_content='Why and Where?\\nWe use Standard Scaling when we want to compare data that might have different averages and spreads.'),\n",
       " Document(metadata={'source': 'Data Transformation Simplified Expl.txt'}, page_content='Practical Uses:\\n- Stock Prices: Comparing stock prices with different averages and volatility.\\n- Test Scores: Comparing student scores on different tests with varying difficulty levels.'),\n",
       " Document(metadata={'source': 'Data Transformation Simplified Expl.txt'}, page_content=\"Real-Life Example:\\nSuppose you're analyzing test scores from different subjects. Some subjects might have higher averages and more spread-out scores. To compare them fairly, you'd use Standard Scaling to bring them all to the same baseline.\"),\n",
       " Document(metadata={'source': 'Data Transformation Simplified Expl.txt'}, page_content=\"In summary, data transformation methods like Min-Max Scaling and Standard Scaling are like adjusting data to make it easier to work with and compare. They're useful for various situations where you want to ensure fair comparisons and prevent some data from overshadowing others. Choosing the right method depends on what you're trying to achieve and the nature of your data.\")]"
      ]
     },
     "execution_count": 3,
     "metadata": {},
     "output_type": "execute_result"
    }
   ],
   "source": [
    "doc_chunks"
   ]
  },
  {
   "cell_type": "code",
   "execution_count": 4,
   "metadata": {},
   "outputs": [
    {
     "data": {
      "text/plain": [
       "<langchain_community.vectorstores.faiss.FAISS at 0x23c729e0ad0>"
      ]
     },
     "execution_count": 4,
     "metadata": {},
     "output_type": "execute_result"
    }
   ],
   "source": [
    "# we're using cohere embeddings\n",
    "embeddings = CohereEmbeddings()\n",
    "# create the vector store\n",
    "vectorstore = FAISS.from_documents(doc_chunks, embeddings)\n",
    "vectorstore"
   ]
  },
  {
   "cell_type": "markdown",
   "metadata": {},
   "source": [
    "#### Search Method"
   ]
  },
  {
   "cell_type": "code",
   "execution_count": 5,
   "metadata": {},
   "outputs": [
    {
     "data": {
      "text/html": [
       "<pre style=\"white-space:pre;overflow-x:auto;line-height:normal;font-family:Menlo,'DejaVu Sans Mono',consolas,'Courier New',monospace\"><span style=\"font-weight: bold\">[</span>\n",
       "    <span style=\"color: #800080; text-decoration-color: #800080; font-weight: bold\">Document</span><span style=\"font-weight: bold\">(</span>\n",
       "        <span style=\"color: #808000; text-decoration-color: #808000\">metadata</span>=<span style=\"font-weight: bold\">{</span><span style=\"color: #008000; text-decoration-color: #008000\">'source'</span>: <span style=\"color: #008000; text-decoration-color: #008000\">'Data Transformation Simplified Expl.txt'</span><span style=\"font-weight: bold\">}</span>,\n",
       "        <span style=\"color: #808000; text-decoration-color: #808000\">page_content</span>=<span style=\"color: #008000; text-decoration-color: #008000\">'Real-Life Example:\\nThink about temperatures. In some places, they use Celsius, and in </span>\n",
       "<span style=\"color: #008000; text-decoration-color: #008000\">others, Fahrenheit. If you want to compare temperatures accurately, you might convert everything to one scale, like</span>\n",
       "<span style=\"color: #008000; text-decoration-color: #008000\">Celsius.\\n\\nMin-Max Scaling: Simplified Explanation'</span>\n",
       "    <span style=\"font-weight: bold\">)</span>,\n",
       "    <span style=\"color: #800080; text-decoration-color: #800080; font-weight: bold\">Document</span><span style=\"font-weight: bold\">(</span>\n",
       "        <span style=\"color: #808000; text-decoration-color: #808000\">metadata</span>=<span style=\"font-weight: bold\">{</span><span style=\"color: #008000; text-decoration-color: #008000\">'source'</span>: <span style=\"color: #008000; text-decoration-color: #008000\">'Data Transformation Simplified Expl.txt'</span><span style=\"font-weight: bold\">}</span>,\n",
       "        <span style=\"color: #808000; text-decoration-color: #808000\">page_content</span>=<span style=\"color: #008000; text-decoration-color: #008000\">\"Real-Life Example:\\nSuppose you're analyzing test scores from different subjects. Some </span>\n",
       "<span style=\"color: #008000; text-decoration-color: #008000\">subjects might have higher averages and more spread-out scores. To compare them fairly, you'd use Standard Scaling </span>\n",
       "<span style=\"color: #008000; text-decoration-color: #008000\">to bring them all to the same baseline.\"</span>\n",
       "    <span style=\"font-weight: bold\">)</span>\n",
       "<span style=\"font-weight: bold\">]</span>\n",
       "</pre>\n"
      ],
      "text/plain": [
       "\u001b[1m[\u001b[0m\n",
       "    \u001b[1;35mDocument\u001b[0m\u001b[1m(\u001b[0m\n",
       "        \u001b[33mmetadata\u001b[0m=\u001b[1m{\u001b[0m\u001b[32m'source'\u001b[0m: \u001b[32m'Data Transformation Simplified Expl.txt'\u001b[0m\u001b[1m}\u001b[0m,\n",
       "        \u001b[33mpage_content\u001b[0m=\u001b[32m'Real-Life Example:\\nThink about temperatures. In some places, they use Celsius, and in \u001b[0m\n",
       "\u001b[32mothers, Fahrenheit. If you want to compare temperatures accurately, you might convert everything to one scale, like\u001b[0m\n",
       "\u001b[32mCelsius.\\n\\nMin-Max Scaling: Simplified Explanation'\u001b[0m\n",
       "    \u001b[1m)\u001b[0m,\n",
       "    \u001b[1;35mDocument\u001b[0m\u001b[1m(\u001b[0m\n",
       "        \u001b[33mmetadata\u001b[0m=\u001b[1m{\u001b[0m\u001b[32m'source'\u001b[0m: \u001b[32m'Data Transformation Simplified Expl.txt'\u001b[0m\u001b[1m}\u001b[0m,\n",
       "        \u001b[33mpage_content\u001b[0m=\u001b[32m\"Real\u001b[0m\u001b[32m-Life Example:\\nSuppose you're analyzing test scores from different subjects. Some \u001b[0m\n",
       "\u001b[32msubjects might have higher averages and more spread-out scores. To compare them fairly, you'd use Standard Scaling \u001b[0m\n",
       "\u001b[32mto bring them all to the same baseline.\"\u001b[0m\n",
       "    \u001b[1m)\u001b[0m\n",
       "\u001b[1m]\u001b[0m\n"
      ]
     },
     "metadata": {},
     "output_type": "display_data"
    }
   ],
   "source": [
    "# searching a word from vectorstore\n",
    "retrieved_docs = vectorstore.search(\"Scaling\", search_type=\"similarity\", k=2)\n",
    "print(retrieved_docs)"
   ]
  },
  {
   "cell_type": "markdown",
   "metadata": {},
   "source": [
    "#### Similarity Search Method"
   ]
  },
  {
   "cell_type": "code",
   "execution_count": 6,
   "metadata": {},
   "outputs": [
    {
     "data": {
      "text/html": [
       "<pre style=\"white-space:pre;overflow-x:auto;line-height:normal;font-family:Menlo,'DejaVu Sans Mono',consolas,'Courier New',monospace\">Data Transformation: Simplified Explanation\n",
       "\n",
       "What is Data Transformation?\n",
       "Data transformation is like changing the way we measure things to make them easier to understand and compare. It's \n",
       "like converting inches to centimeters or changing dollars to euros to help with calculations and comparisons.\n",
       "</pre>\n"
      ],
      "text/plain": [
       "Data Transformation: Simplified Explanation\n",
       "\n",
       "What is Data Transformation?\n",
       "Data transformation is like changing the way we measure things to make them easier to understand and compare. It's \n",
       "like converting inches to centimeters or changing dollars to euros to help with calculations and comparisons.\n"
      ]
     },
     "metadata": {},
     "output_type": "display_data"
    }
   ],
   "source": [
    "# using similarity search\n",
    "retrieved_docs = vectorstore.similarity_search(\"What is Data Transformation?\", k=3)\n",
    "print(retrieved_docs[0].page_content)"
   ]
  },
  {
   "cell_type": "markdown",
   "metadata": {},
   "source": [
    "#### Similarity Search Score Method"
   ]
  },
  {
   "cell_type": "code",
   "execution_count": 7,
   "metadata": {},
   "outputs": [
    {
     "data": {
      "text/html": [
       "<pre style=\"white-space:pre;overflow-x:auto;line-height:normal;font-family:Menlo,'DejaVu Sans Mono',consolas,'Courier New',monospace\"><span style=\"font-weight: bold\">[</span>\n",
       "    <span style=\"font-weight: bold\">(</span>\n",
       "        <span style=\"color: #800080; text-decoration-color: #800080; font-weight: bold\">Document</span><span style=\"font-weight: bold\">(</span>\n",
       "            <span style=\"color: #808000; text-decoration-color: #808000\">metadata</span>=<span style=\"font-weight: bold\">{</span><span style=\"color: #008000; text-decoration-color: #008000\">'source'</span>: <span style=\"color: #008000; text-decoration-color: #008000\">'Data Transformation Simplified Expl.txt'</span><span style=\"font-weight: bold\">}</span>,\n",
       "            <span style=\"color: #808000; text-decoration-color: #808000\">page_content</span>=<span style=\"color: #008000; text-decoration-color: #008000\">\"Data Transformation: Simplified Explanation\\n\\nWhat is Data Transformation?\\nData </span>\n",
       "<span style=\"color: #008000; text-decoration-color: #008000\">transformation is like changing the way we measure things to make them easier to understand and compare. It's like </span>\n",
       "<span style=\"color: #008000; text-decoration-color: #008000\">converting inches to centimeters or changing dollars to euros to help with calculations and comparisons.\"</span>\n",
       "        <span style=\"font-weight: bold\">)</span>,\n",
       "        <span style=\"color: #008080; text-decoration-color: #008080; font-weight: bold\">2909.331</span>\n",
       "    <span style=\"font-weight: bold\">)</span>,\n",
       "    <span style=\"font-weight: bold\">(</span>\n",
       "        <span style=\"color: #800080; text-decoration-color: #800080; font-weight: bold\">Document</span><span style=\"font-weight: bold\">(</span>\n",
       "            <span style=\"color: #808000; text-decoration-color: #808000\">metadata</span>=<span style=\"font-weight: bold\">{</span><span style=\"color: #008000; text-decoration-color: #008000\">'source'</span>: <span style=\"color: #008000; text-decoration-color: #008000\">'Data Transformation Simplified Expl.txt'</span><span style=\"font-weight: bold\">}</span>,\n",
       "            <span style=\"color: #808000; text-decoration-color: #808000\">page_content</span>=<span style=\"color: #008000; text-decoration-color: #008000\">'Why and Where?\\nData transformation is important because it helps us work with data more </span>\n",
       "<span style=\"color: #008000; text-decoration-color: #008000\">effectively. We transform data to make it more useful for analysis and building models.'</span>\n",
       "        <span style=\"font-weight: bold\">)</span>,\n",
       "        <span style=\"color: #008080; text-decoration-color: #008080; font-weight: bold\">3731.0398</span>\n",
       "    <span style=\"font-weight: bold\">)</span>\n",
       "<span style=\"font-weight: bold\">]</span>\n",
       "</pre>\n"
      ],
      "text/plain": [
       "\u001b[1m[\u001b[0m\n",
       "    \u001b[1m(\u001b[0m\n",
       "        \u001b[1;35mDocument\u001b[0m\u001b[1m(\u001b[0m\n",
       "            \u001b[33mmetadata\u001b[0m=\u001b[1m{\u001b[0m\u001b[32m'source'\u001b[0m: \u001b[32m'Data Transformation Simplified Expl.txt'\u001b[0m\u001b[1m}\u001b[0m,\n",
       "            \u001b[33mpage_content\u001b[0m=\u001b[32m\"Data\u001b[0m\u001b[32m Transformation: Simplified Explanation\\n\\nWhat is Data Transformation?\\nData \u001b[0m\n",
       "\u001b[32mtransformation is like changing the way we measure things to make them easier to understand and compare. It's like \u001b[0m\n",
       "\u001b[32mconverting inches to centimeters or changing dollars to euros to help with calculations and comparisons.\"\u001b[0m\n",
       "        \u001b[1m)\u001b[0m,\n",
       "        \u001b[1;36m2909.331\u001b[0m\n",
       "    \u001b[1m)\u001b[0m,\n",
       "    \u001b[1m(\u001b[0m\n",
       "        \u001b[1;35mDocument\u001b[0m\u001b[1m(\u001b[0m\n",
       "            \u001b[33mmetadata\u001b[0m=\u001b[1m{\u001b[0m\u001b[32m'source'\u001b[0m: \u001b[32m'Data Transformation Simplified Expl.txt'\u001b[0m\u001b[1m}\u001b[0m,\n",
       "            \u001b[33mpage_content\u001b[0m=\u001b[32m'Why and Where?\\nData transformation is important because it helps us work with data more \u001b[0m\n",
       "\u001b[32meffectively. We transform data to make it more useful for analysis and building models.'\u001b[0m\n",
       "        \u001b[1m)\u001b[0m,\n",
       "        \u001b[1;36m3731.0398\u001b[0m\n",
       "    \u001b[1m)\u001b[0m\n",
       "\u001b[1m]\u001b[0m\n"
      ]
     },
     "metadata": {},
     "output_type": "display_data"
    }
   ],
   "source": [
    "# using similarity search with score to retrieve relevant chunks. The lower the score, the more relevant. it uses L2 score \n",
    "# that is also called Manhatton Distance (it gives distance from query)\n",
    "retrieved_docs = vectorstore.similarity_search_with_score(\"What is Data Transformation?\", k=2)\n",
    "print(retrieved_docs)"
   ]
  },
  {
   "cell_type": "markdown",
   "metadata": {},
   "source": [
    "#### Similarity Search by Vector Method \n",
    "We can also pass a vector instead of text query to vectorstore.\n"
   ]
  },
  {
   "cell_type": "code",
   "execution_count": 8,
   "metadata": {},
   "outputs": [
    {
     "data": {
      "text/html": [
       "<pre style=\"white-space:pre;overflow-x:auto;line-height:normal;font-family:Menlo,'DejaVu Sans Mono',consolas,'Courier New',monospace\"><span style=\"font-weight: bold\">[</span>\n",
       "    <span style=\"color: #800080; text-decoration-color: #800080; font-weight: bold\">Document</span><span style=\"font-weight: bold\">(</span>\n",
       "        <span style=\"color: #808000; text-decoration-color: #808000\">metadata</span>=<span style=\"font-weight: bold\">{</span><span style=\"color: #008000; text-decoration-color: #008000\">'source'</span>: <span style=\"color: #008000; text-decoration-color: #008000\">'Data Transformation Simplified Expl.txt'</span><span style=\"font-weight: bold\">}</span>,\n",
       "        <span style=\"color: #808000; text-decoration-color: #808000\">page_content</span>=<span style=\"color: #008000; text-decoration-color: #008000\">\"Data Transformation: Simplified Explanation\\n\\nWhat is Data Transformation?\\nData </span>\n",
       "<span style=\"color: #008000; text-decoration-color: #008000\">transformation is like changing the way we measure things to make them easier to understand and compare. It's like </span>\n",
       "<span style=\"color: #008000; text-decoration-color: #008000\">converting inches to centimeters or changing dollars to euros to help with calculations and comparisons.\"</span>\n",
       "    <span style=\"font-weight: bold\">)</span>,\n",
       "    <span style=\"color: #800080; text-decoration-color: #800080; font-weight: bold\">Document</span><span style=\"font-weight: bold\">(</span>\n",
       "        <span style=\"color: #808000; text-decoration-color: #808000\">metadata</span>=<span style=\"font-weight: bold\">{</span><span style=\"color: #008000; text-decoration-color: #008000\">'source'</span>: <span style=\"color: #008000; text-decoration-color: #008000\">'Data Transformation Simplified Expl.txt'</span><span style=\"font-weight: bold\">}</span>,\n",
       "        <span style=\"color: #808000; text-decoration-color: #808000\">page_content</span>=<span style=\"color: #008000; text-decoration-color: #008000\">'Why and Where?\\nData transformation is important because it helps us work with data more </span>\n",
       "<span style=\"color: #008000; text-decoration-color: #008000\">effectively. We transform data to make it more useful for analysis and building models.'</span>\n",
       "    <span style=\"font-weight: bold\">)</span>\n",
       "<span style=\"font-weight: bold\">]</span>\n",
       "</pre>\n"
      ],
      "text/plain": [
       "\u001b[1m[\u001b[0m\n",
       "    \u001b[1;35mDocument\u001b[0m\u001b[1m(\u001b[0m\n",
       "        \u001b[33mmetadata\u001b[0m=\u001b[1m{\u001b[0m\u001b[32m'source'\u001b[0m: \u001b[32m'Data Transformation Simplified Expl.txt'\u001b[0m\u001b[1m}\u001b[0m,\n",
       "        \u001b[33mpage_content\u001b[0m=\u001b[32m\"Data\u001b[0m\u001b[32m Transformation: Simplified Explanation\\n\\nWhat is Data Transformation?\\nData \u001b[0m\n",
       "\u001b[32mtransformation is like changing the way we measure things to make them easier to understand and compare. It's like \u001b[0m\n",
       "\u001b[32mconverting inches to centimeters or changing dollars to euros to help with calculations and comparisons.\"\u001b[0m\n",
       "    \u001b[1m)\u001b[0m,\n",
       "    \u001b[1;35mDocument\u001b[0m\u001b[1m(\u001b[0m\n",
       "        \u001b[33mmetadata\u001b[0m=\u001b[1m{\u001b[0m\u001b[32m'source'\u001b[0m: \u001b[32m'Data Transformation Simplified Expl.txt'\u001b[0m\u001b[1m}\u001b[0m,\n",
       "        \u001b[33mpage_content\u001b[0m=\u001b[32m'Why and Where?\\nData transformation is important because it helps us work with data more \u001b[0m\n",
       "\u001b[32meffectively. We transform data to make it more useful for analysis and building models.'\u001b[0m\n",
       "    \u001b[1m)\u001b[0m\n",
       "\u001b[1m]\u001b[0m\n"
      ]
     },
     "metadata": {},
     "output_type": "display_data"
    }
   ],
   "source": [
    "vector_query = embeddings.embed_query(\"What is Data Transformation?\")\n",
    "vector_retrieved_docs = vectorstore.similarity_search_by_vector(vector_query, k=2)\n",
    "print(vector_retrieved_docs)"
   ]
  },
  {
   "cell_type": "markdown",
   "metadata": {},
   "source": [
    "### Saving Vectorstore in Local and then Loading it"
   ]
  },
  {
   "cell_type": "code",
   "execution_count": 9,
   "metadata": {},
   "outputs": [],
   "source": [
    "vectorstore.save_local(\"faiss_index\") # pickel file will be saved in current directory"
   ]
  },
  {
   "cell_type": "code",
   "execution_count": 10,
   "metadata": {},
   "outputs": [
    {
     "data": {
      "text/plain": [
       "<langchain_community.vectorstores.faiss.FAISS at 0x23c7b402c10>"
      ]
     },
     "execution_count": 10,
     "metadata": {},
     "output_type": "execute_result"
    }
   ],
   "source": [
    "# loading vectorstore\n",
    "new_vectorstore = FAISS.load_local(\"faiss_index\", embeddings, allow_dangerous_deserialization=True)\n",
    "new_vectorstore"
   ]
  },
  {
   "cell_type": "code",
   "execution_count": 11,
   "metadata": {},
   "outputs": [
    {
     "data": {
      "text/html": [
       "<pre style=\"white-space:pre;overflow-x:auto;line-height:normal;font-family:Menlo,'DejaVu Sans Mono',consolas,'Courier New',monospace\"><span style=\"font-weight: bold\">[</span>\n",
       "    <span style=\"font-weight: bold\">(</span>\n",
       "        <span style=\"color: #800080; text-decoration-color: #800080; font-weight: bold\">Document</span><span style=\"font-weight: bold\">(</span>\n",
       "            <span style=\"color: #808000; text-decoration-color: #808000\">metadata</span>=<span style=\"font-weight: bold\">{</span><span style=\"color: #008000; text-decoration-color: #008000\">'source'</span>: <span style=\"color: #008000; text-decoration-color: #008000\">'Data Transformation Simplified Expl.txt'</span><span style=\"font-weight: bold\">}</span>,\n",
       "            <span style=\"color: #808000; text-decoration-color: #808000\">page_content</span>=<span style=\"color: #008000; text-decoration-color: #008000\">\"Min-Max Scaling: Simplified Explanation\\n\\nStandard Scaling is like making all your </span>\n",
       "<span style=\"color: #008000; text-decoration-color: #008000\">numbers play nicely with each other by giving them a common center (average) and making sure they're all about the </span>\n",
       "<span style=\"color: #008000; text-decoration-color: #008000\">same distance (standard deviation) from that center.\"</span>\n",
       "        <span style=\"font-weight: bold\">)</span>,\n",
       "        <span style=\"color: #008080; text-decoration-color: #008080; font-weight: bold\">2884.753</span>\n",
       "    <span style=\"font-weight: bold\">)</span>,\n",
       "    <span style=\"font-weight: bold\">(</span>\n",
       "        <span style=\"color: #800080; text-decoration-color: #800080; font-weight: bold\">Document</span><span style=\"font-weight: bold\">(</span>\n",
       "            <span style=\"color: #808000; text-decoration-color: #808000\">metadata</span>=<span style=\"font-weight: bold\">{</span><span style=\"color: #008000; text-decoration-color: #008000\">'source'</span>: <span style=\"color: #008000; text-decoration-color: #008000\">'Data Transformation Simplified Expl.txt'</span><span style=\"font-weight: bold\">}</span>,\n",
       "            <span style=\"color: #808000; text-decoration-color: #808000\">page_content</span>=<span style=\"color: #008000; text-decoration-color: #008000\">'Real-Life Example:\\nThink about temperatures. In some places, they use Celsius, and in </span>\n",
       "<span style=\"color: #008000; text-decoration-color: #008000\">others, Fahrenheit. If you want to compare temperatures accurately, you might convert everything to one scale, like</span>\n",
       "<span style=\"color: #008000; text-decoration-color: #008000\">Celsius.\\n\\nMin-Max Scaling: Simplified Explanation'</span>\n",
       "        <span style=\"font-weight: bold\">)</span>,\n",
       "        <span style=\"color: #008080; text-decoration-color: #008080; font-weight: bold\">4505.025</span>\n",
       "    <span style=\"font-weight: bold\">)</span>\n",
       "<span style=\"font-weight: bold\">]</span>\n",
       "</pre>\n"
      ],
      "text/plain": [
       "\u001b[1m[\u001b[0m\n",
       "    \u001b[1m(\u001b[0m\n",
       "        \u001b[1;35mDocument\u001b[0m\u001b[1m(\u001b[0m\n",
       "            \u001b[33mmetadata\u001b[0m=\u001b[1m{\u001b[0m\u001b[32m'source'\u001b[0m: \u001b[32m'Data Transformation Simplified Expl.txt'\u001b[0m\u001b[1m}\u001b[0m,\n",
       "            \u001b[33mpage_content\u001b[0m=\u001b[32m\"Min\u001b[0m\u001b[32m-Max Scaling: Simplified Explanation\\n\\nStandard Scaling is like making all your \u001b[0m\n",
       "\u001b[32mnumbers play nicely with each other by giving them a common center \u001b[0m\u001b[32m(\u001b[0m\u001b[32maverage\u001b[0m\u001b[32m)\u001b[0m\u001b[32m and making sure they're all about the \u001b[0m\n",
       "\u001b[32msame distance \u001b[0m\u001b[32m(\u001b[0m\u001b[32mstandard deviation\u001b[0m\u001b[32m)\u001b[0m\u001b[32m from that center.\"\u001b[0m\n",
       "        \u001b[1m)\u001b[0m,\n",
       "        \u001b[1;36m2884.753\u001b[0m\n",
       "    \u001b[1m)\u001b[0m,\n",
       "    \u001b[1m(\u001b[0m\n",
       "        \u001b[1;35mDocument\u001b[0m\u001b[1m(\u001b[0m\n",
       "            \u001b[33mmetadata\u001b[0m=\u001b[1m{\u001b[0m\u001b[32m'source'\u001b[0m: \u001b[32m'Data Transformation Simplified Expl.txt'\u001b[0m\u001b[1m}\u001b[0m,\n",
       "            \u001b[33mpage_content\u001b[0m=\u001b[32m'Real-Life Example:\\nThink about temperatures. In some places, they use Celsius, and in \u001b[0m\n",
       "\u001b[32mothers, Fahrenheit. If you want to compare temperatures accurately, you might convert everything to one scale, like\u001b[0m\n",
       "\u001b[32mCelsius.\\n\\nMin-Max Scaling: Simplified Explanation'\u001b[0m\n",
       "        \u001b[1m)\u001b[0m,\n",
       "        \u001b[1;36m4505.025\u001b[0m\n",
       "    \u001b[1m)\u001b[0m\n",
       "\u001b[1m]\u001b[0m\n"
      ]
     },
     "metadata": {},
     "output_type": "display_data"
    }
   ],
   "source": [
    "# retrieving chunks from our loaded vectorstore\n",
    "chunks = new_vectorstore.similarity_search_with_score(\"What is Min-Max Scaling?\", k=2) \n",
    "print(chunks)"
   ]
  },
  {
   "cell_type": "markdown",
   "metadata": {},
   "source": [
    "## Vectorstore as a Retriever"
   ]
  },
  {
   "cell_type": "code",
   "execution_count": 12,
   "metadata": {},
   "outputs": [
    {
     "data": {
      "text/plain": [
       "[Document(metadata={'source': 'Data Transformation Simplified Expl.txt'}, page_content=\"Data Transformation: Simplified Explanation\\n\\nWhat is Data Transformation?\\nData transformation is like changing the way we measure things to make them easier to understand and compare. It's like converting inches to centimeters or changing dollars to euros to help with calculations and comparisons.\"),\n",
       " Document(metadata={'source': 'Data Transformation Simplified Expl.txt'}, page_content='Why and Where?\\nData transformation is important because it helps us work with data more effectively. We transform data to make it more useful for analysis and building models.'),\n",
       " Document(metadata={'source': 'Data Transformation Simplified Expl.txt'}, page_content=\"In summary, data transformation methods like Min-Max Scaling and Standard Scaling are like adjusting data to make it easier to work with and compare. They're useful for various situations where you want to ensure fair comparisons and prevent some data from overshadowing others. Choosing the right method depends on what you're trying to achieve and the nature of your data.\"),\n",
       " Document(metadata={'source': 'Data Transformation Simplified Expl.txt'}, page_content='Practical Uses:\\n- Scaling: Changing the range or size of numbers.\\n- Normalization: Making data follow a certain pattern or shape.')]"
      ]
     },
     "execution_count": 12,
     "metadata": {},
     "output_type": "execute_result"
    }
   ],
   "source": [
    "retriever = vectorstore.as_retriever()\n",
    "retriever.invoke(\"What is Data Transformation?\")"
   ]
  },
  {
   "cell_type": "markdown",
   "metadata": {},
   "source": [
    "## 2. Chroma"
   ]
  },
  {
   "cell_type": "code",
   "execution_count": 13,
   "metadata": {},
   "outputs": [
    {
     "data": {
      "text/plain": [
       "<langchain_community.vectorstores.chroma.Chroma at 0x23c7b40d250>"
      ]
     },
     "execution_count": 13,
     "metadata": {},
     "output_type": "execute_result"
    }
   ],
   "source": [
    "from langchain_community.vectorstores import Chroma\n",
    "\n",
    "chroma_vectorstore = Chroma.from_documents(doc_chunks, embeddings, persist_directory=\"./chroma_db\")\n",
    "chroma_vectorstore"
   ]
  },
  {
   "cell_type": "markdown",
   "metadata": {},
   "source": [
    "#### Similarity Search Method"
   ]
  },
  {
   "cell_type": "code",
   "execution_count": 14,
   "metadata": {},
   "outputs": [
    {
     "data": {
      "text/html": [
       "<pre style=\"white-space:pre;overflow-x:auto;line-height:normal;font-family:Menlo,'DejaVu Sans Mono',consolas,'Courier New',monospace\"><span style=\"font-weight: bold\">[</span>\n",
       "    <span style=\"color: #800080; text-decoration-color: #800080; font-weight: bold\">Document</span><span style=\"font-weight: bold\">(</span>\n",
       "        <span style=\"color: #808000; text-decoration-color: #808000\">metadata</span>=<span style=\"font-weight: bold\">{</span><span style=\"color: #008000; text-decoration-color: #008000\">'source'</span>: <span style=\"color: #008000; text-decoration-color: #008000\">'Data Transformation Simplified Expl.txt'</span><span style=\"font-weight: bold\">}</span>,\n",
       "        <span style=\"color: #808000; text-decoration-color: #808000\">page_content</span>=<span style=\"color: #008000; text-decoration-color: #008000\">\"Data Transformation: Simplified Explanation\\n\\nWhat is Data Transformation?\\nData </span>\n",
       "<span style=\"color: #008000; text-decoration-color: #008000\">transformation is like changing the way we measure things to make them easier to understand and compare. It's like </span>\n",
       "<span style=\"color: #008000; text-decoration-color: #008000\">converting inches to centimeters or changing dollars to euros to help with calculations and comparisons.\"</span>\n",
       "    <span style=\"font-weight: bold\">)</span>,\n",
       "    <span style=\"color: #800080; text-decoration-color: #800080; font-weight: bold\">Document</span><span style=\"font-weight: bold\">(</span>\n",
       "        <span style=\"color: #808000; text-decoration-color: #808000\">metadata</span>=<span style=\"font-weight: bold\">{</span><span style=\"color: #008000; text-decoration-color: #008000\">'source'</span>: <span style=\"color: #008000; text-decoration-color: #008000\">'Data Transformation Simplified Expl.txt'</span><span style=\"font-weight: bold\">}</span>,\n",
       "        <span style=\"color: #808000; text-decoration-color: #808000\">page_content</span>=<span style=\"color: #008000; text-decoration-color: #008000\">'Why and Where?\\nData transformation is important because it helps us work with data more </span>\n",
       "<span style=\"color: #008000; text-decoration-color: #008000\">effectively. We transform data to make it more useful for analysis and building models.'</span>\n",
       "    <span style=\"font-weight: bold\">)</span>\n",
       "<span style=\"font-weight: bold\">]</span>\n",
       "</pre>\n"
      ],
      "text/plain": [
       "\u001b[1m[\u001b[0m\n",
       "    \u001b[1;35mDocument\u001b[0m\u001b[1m(\u001b[0m\n",
       "        \u001b[33mmetadata\u001b[0m=\u001b[1m{\u001b[0m\u001b[32m'source'\u001b[0m: \u001b[32m'Data Transformation Simplified Expl.txt'\u001b[0m\u001b[1m}\u001b[0m,\n",
       "        \u001b[33mpage_content\u001b[0m=\u001b[32m\"Data\u001b[0m\u001b[32m Transformation: Simplified Explanation\\n\\nWhat is Data Transformation?\\nData \u001b[0m\n",
       "\u001b[32mtransformation is like changing the way we measure things to make them easier to understand and compare. It's like \u001b[0m\n",
       "\u001b[32mconverting inches to centimeters or changing dollars to euros to help with calculations and comparisons.\"\u001b[0m\n",
       "    \u001b[1m)\u001b[0m,\n",
       "    \u001b[1;35mDocument\u001b[0m\u001b[1m(\u001b[0m\n",
       "        \u001b[33mmetadata\u001b[0m=\u001b[1m{\u001b[0m\u001b[32m'source'\u001b[0m: \u001b[32m'Data Transformation Simplified Expl.txt'\u001b[0m\u001b[1m}\u001b[0m,\n",
       "        \u001b[33mpage_content\u001b[0m=\u001b[32m'Why and Where?\\nData transformation is important because it helps us work with data more \u001b[0m\n",
       "\u001b[32meffectively. We transform data to make it more useful for analysis and building models.'\u001b[0m\n",
       "    \u001b[1m)\u001b[0m\n",
       "\u001b[1m]\u001b[0m\n"
      ]
     },
     "metadata": {},
     "output_type": "display_data"
    }
   ],
   "source": [
    "retrieved_docs = chroma_vectorstore.similarity_search(\"What is Data Transformation?\", k=2)\n",
    "print(retrieved_docs)"
   ]
  },
  {
   "cell_type": "markdown",
   "metadata": {},
   "source": [
    "#### Similarity Search Score Method"
   ]
  },
  {
   "cell_type": "code",
   "execution_count": 15,
   "metadata": {},
   "outputs": [
    {
     "data": {
      "text/html": [
       "<pre style=\"white-space:pre;overflow-x:auto;line-height:normal;font-family:Menlo,'DejaVu Sans Mono',consolas,'Courier New',monospace\"><span style=\"font-weight: bold\">[</span>\n",
       "    <span style=\"font-weight: bold\">(</span>\n",
       "        <span style=\"color: #800080; text-decoration-color: #800080; font-weight: bold\">Document</span><span style=\"font-weight: bold\">(</span>\n",
       "            <span style=\"color: #808000; text-decoration-color: #808000\">metadata</span>=<span style=\"font-weight: bold\">{</span><span style=\"color: #008000; text-decoration-color: #008000\">'source'</span>: <span style=\"color: #008000; text-decoration-color: #008000\">'Data Transformation Simplified Expl.txt'</span><span style=\"font-weight: bold\">}</span>,\n",
       "            <span style=\"color: #808000; text-decoration-color: #808000\">page_content</span>=<span style=\"color: #008000; text-decoration-color: #008000\">\"Data Transformation: Simplified Explanation\\n\\nWhat is Data Transformation?\\nData </span>\n",
       "<span style=\"color: #008000; text-decoration-color: #008000\">transformation is like changing the way we measure things to make them easier to understand and compare. It's like </span>\n",
       "<span style=\"color: #008000; text-decoration-color: #008000\">converting inches to centimeters or changing dollars to euros to help with calculations and comparisons.\"</span>\n",
       "        <span style=\"font-weight: bold\">)</span>,\n",
       "        <span style=\"color: #008080; text-decoration-color: #008080; font-weight: bold\">2909.3310149397157</span>\n",
       "    <span style=\"font-weight: bold\">)</span>,\n",
       "    <span style=\"font-weight: bold\">(</span>\n",
       "        <span style=\"color: #800080; text-decoration-color: #800080; font-weight: bold\">Document</span><span style=\"font-weight: bold\">(</span>\n",
       "            <span style=\"color: #808000; text-decoration-color: #808000\">metadata</span>=<span style=\"font-weight: bold\">{</span><span style=\"color: #008000; text-decoration-color: #008000\">'source'</span>: <span style=\"color: #008000; text-decoration-color: #008000\">'Data Transformation Simplified Expl.txt'</span><span style=\"font-weight: bold\">}</span>,\n",
       "            <span style=\"color: #808000; text-decoration-color: #808000\">page_content</span>=<span style=\"color: #008000; text-decoration-color: #008000\">'Why and Where?\\nData transformation is important because it helps us work with data more </span>\n",
       "<span style=\"color: #008000; text-decoration-color: #008000\">effectively. We transform data to make it more useful for analysis and building models.'</span>\n",
       "        <span style=\"font-weight: bold\">)</span>,\n",
       "        <span style=\"color: #008080; text-decoration-color: #008080; font-weight: bold\">3731.0399919493557</span>\n",
       "    <span style=\"font-weight: bold\">)</span>\n",
       "<span style=\"font-weight: bold\">]</span>\n",
       "</pre>\n"
      ],
      "text/plain": [
       "\u001b[1m[\u001b[0m\n",
       "    \u001b[1m(\u001b[0m\n",
       "        \u001b[1;35mDocument\u001b[0m\u001b[1m(\u001b[0m\n",
       "            \u001b[33mmetadata\u001b[0m=\u001b[1m{\u001b[0m\u001b[32m'source'\u001b[0m: \u001b[32m'Data Transformation Simplified Expl.txt'\u001b[0m\u001b[1m}\u001b[0m,\n",
       "            \u001b[33mpage_content\u001b[0m=\u001b[32m\"Data\u001b[0m\u001b[32m Transformation: Simplified Explanation\\n\\nWhat is Data Transformation?\\nData \u001b[0m\n",
       "\u001b[32mtransformation is like changing the way we measure things to make them easier to understand and compare. It's like \u001b[0m\n",
       "\u001b[32mconverting inches to centimeters or changing dollars to euros to help with calculations and comparisons.\"\u001b[0m\n",
       "        \u001b[1m)\u001b[0m,\n",
       "        \u001b[1;36m2909.3310149397157\u001b[0m\n",
       "    \u001b[1m)\u001b[0m,\n",
       "    \u001b[1m(\u001b[0m\n",
       "        \u001b[1;35mDocument\u001b[0m\u001b[1m(\u001b[0m\n",
       "            \u001b[33mmetadata\u001b[0m=\u001b[1m{\u001b[0m\u001b[32m'source'\u001b[0m: \u001b[32m'Data Transformation Simplified Expl.txt'\u001b[0m\u001b[1m}\u001b[0m,\n",
       "            \u001b[33mpage_content\u001b[0m=\u001b[32m'Why and Where?\\nData transformation is important because it helps us work with data more \u001b[0m\n",
       "\u001b[32meffectively. We transform data to make it more useful for analysis and building models.'\u001b[0m\n",
       "        \u001b[1m)\u001b[0m,\n",
       "        \u001b[1;36m3731.0399919493557\u001b[0m\n",
       "    \u001b[1m)\u001b[0m\n",
       "\u001b[1m]\u001b[0m\n"
      ]
     },
     "metadata": {},
     "output_type": "display_data"
    }
   ],
   "source": [
    "retrieved_docs = chroma_vectorstore.similarity_search_with_score(\"What is Data Transformation?\", k=2)\n",
    "print(retrieved_docs)"
   ]
  },
  {
   "cell_type": "markdown",
   "metadata": {},
   "source": [
    "### Loading Chroma DB and using it"
   ]
  },
  {
   "cell_type": "code",
   "execution_count": 20,
   "metadata": {},
   "outputs": [
    {
     "data": {
      "text/plain": [
       "[Document(metadata={'source': 'Data Transformation Simplified Expl.txt'}, page_content=\"Data Transformation: Simplified Explanation\\n\\nWhat is Data Transformation?\\nData transformation is like changing the way we measure things to make them easier to understand and compare. It's like converting inches to centimeters or changing dollars to euros to help with calculations and comparisons.\"),\n",
       " Document(metadata={'source': 'Data Transformation Simplified Expl.txt'}, page_content='Why and Where?\\nData transformation is important because it helps us work with data more effectively. We transform data to make it more useful for analysis and building models.')]"
      ]
     },
     "execution_count": 20,
     "metadata": {},
     "output_type": "execute_result"
    }
   ],
   "source": [
    "new_chroma_db = Chroma(persist_directory=\"./chroma_db\", embedding_function=embeddings)\n",
    "new_chroma_db.similarity_search(\"What is Data Transformation?\", k=2)"
   ]
  },
  {
   "cell_type": "markdown",
   "metadata": {},
   "source": [
    "#### Deleting ChromaDB from local"
   ]
  },
  {
   "cell_type": "code",
   "execution_count": 17,
   "metadata": {},
   "outputs": [
    {
     "data": {
      "text/plain": [
       "['06be8360-66f0-4edc-a940-b37b2c8026d7',\n",
       " '15317816-739e-46b5-9036-3b3b99a9f077',\n",
       " '1d135b76-7b46-4355-80c4-94438e2f646a',\n",
       " '241a44e7-6f09-4136-8ad8-5aaae33eb464',\n",
       " '3259f129-7d53-4fbd-989a-36a41e1a49b2',\n",
       " '938f43b9-6e04-4f01-b79b-cc039bd8fa47',\n",
       " 'c4cfc39b-b405-4664-ad05-863e8d03dff4',\n",
       " 'e5c21c8c-49c4-4287-bd76-07ff32777874',\n",
       " 'eec10cf3-d384-4281-9242-722c31a5a034']"
      ]
     },
     "execution_count": 17,
     "metadata": {},
     "output_type": "execute_result"
    }
   ],
   "source": [
    "ids = chroma_vectorstore.get(where={'source': 'Data Transformation Simplified Expl.txt'})['ids']\n",
    "ids"
   ]
  },
  {
   "cell_type": "code",
   "execution_count": 18,
   "metadata": {},
   "outputs": [],
   "source": [
    "# deleting all ids\n",
    "# chroma_vectorstore.delete(ids=ids)"
   ]
  },
  {
   "cell_type": "markdown",
   "metadata": {},
   "source": [
    "## Vectorstore as a Retriever (Chroma)"
   ]
  },
  {
   "cell_type": "code",
   "execution_count": 21,
   "metadata": {},
   "outputs": [
    {
     "data": {
      "text/plain": [
       "[Document(metadata={'source': 'Data Transformation Simplified Expl.txt'}, page_content=\"Min-Max Scaling: Simplified Explanation\\n\\nStandard Scaling is like making all your numbers play nicely with each other by giving them a common center (average) and making sure they're all about the same distance (standard deviation) from that center.\"),\n",
       " Document(metadata={'source': 'Data Transformation Simplified Expl.txt'}, page_content='Real-Life Example:\\nThink about temperatures. In some places, they use Celsius, and in others, Fahrenheit. If you want to compare temperatures accurately, you might convert everything to one scale, like Celsius.\\n\\nMin-Max Scaling: Simplified Explanation'),\n",
       " Document(metadata={'source': 'Data Transformation Simplified Expl.txt'}, page_content=\"In summary, data transformation methods like Min-Max Scaling and Standard Scaling are like adjusting data to make it easier to work with and compare. They're useful for various situations where you want to ensure fair comparisons and prevent some data from overshadowing others. Choosing the right method depends on what you're trying to achieve and the nature of your data.\"),\n",
       " Document(metadata={'source': 'Data Transformation Simplified Expl.txt'}, page_content=\"Real-Life Example:\\nSuppose you're analyzing test scores from different subjects. Some subjects might have higher averages and more spread-out scores. To compare them fairly, you'd use Standard Scaling to bring them all to the same baseline.\")]"
      ]
     },
     "execution_count": 21,
     "metadata": {},
     "output_type": "execute_result"
    }
   ],
   "source": [
    "retriever = new_chroma_db.as_retriever()\n",
    "retriever.invoke(\"What is Min-Max Scaling?\")"
   ]
  }
 ],
 "metadata": {
  "kernelspec": {
   "display_name": "Python 3",
   "language": "python",
   "name": "python3"
  },
  "language_info": {
   "codemirror_mode": {
    "name": "ipython",
    "version": 3
   },
   "file_extension": ".py",
   "mimetype": "text/x-python",
   "name": "python",
   "nbconvert_exporter": "python",
   "pygments_lexer": "ipython3",
   "version": "3.11.0"
  }
 },
 "nbformat": 4,
 "nbformat_minor": 2
}
