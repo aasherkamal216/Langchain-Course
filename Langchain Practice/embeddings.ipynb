{
 "cells": [
  {
   "cell_type": "markdown",
   "metadata": {},
   "source": [
    "# **Embedding Techniques**"
   ]
  },
  {
   "cell_type": "code",
   "execution_count": 8,
   "metadata": {},
   "outputs": [],
   "source": [
    "import os\n",
    "from dotenv import load_dotenv\n",
    "load_dotenv()\n",
    "from rich import print"
   ]
  },
  {
   "cell_type": "code",
   "execution_count": 9,
   "metadata": {},
   "outputs": [],
   "source": [
    "os.environ['GOOGLE_API_KEY'] = os.getenv('GOOGLE_API_KEY')\n",
    "os.environ['COHERE_API_KEY'] = os.getenv('COHERE_API_KEY')"
   ]
  },
  {
   "cell_type": "markdown",
   "metadata": {},
   "source": [
    "# 1. Google Embeddings"
   ]
  },
  {
   "cell_type": "code",
   "execution_count": 10,
   "metadata": {},
   "outputs": [
    {
     "data": {
      "text/html": [
       "<pre style=\"white-space:pre;overflow-x:auto;line-height:normal;font-family:Menlo,'DejaVu Sans Mono',consolas,'Courier New',monospace\"><span style=\"color: #800080; text-decoration-color: #800080; font-weight: bold\">GoogleGenerativeAIEmbeddings</span><span style=\"font-weight: bold\">(</span>\n",
       "    <span style=\"color: #808000; text-decoration-color: #808000\">client</span>=<span style=\"font-weight: bold\">&lt;</span><span style=\"color: #ff00ff; text-decoration-color: #ff00ff; font-weight: bold\">google.ai.generativelanguage_v1beta.services.generative_service.client.GenerativeServiceClient</span><span style=\"color: #000000; text-decoration-color: #000000\"> object </span>\n",
       "<span style=\"color: #000000; text-decoration-color: #000000\">at </span><span style=\"color: #008080; text-decoration-color: #008080; font-weight: bold\">0x000001F16ACEC2D0</span><span style=\"font-weight: bold\">&gt;</span>,\n",
       "    <span style=\"color: #808000; text-decoration-color: #808000\">model</span>=<span style=\"color: #008000; text-decoration-color: #008000\">'models/embedding-001'</span>,\n",
       "    <span style=\"color: #808000; text-decoration-color: #808000\">task_type</span>=<span style=\"color: #800080; text-decoration-color: #800080; font-style: italic\">None</span>,\n",
       "    <span style=\"color: #808000; text-decoration-color: #808000\">google_api_key</span>=<span style=\"color: #800080; text-decoration-color: #800080; font-style: italic\">None</span>,\n",
       "    <span style=\"color: #808000; text-decoration-color: #808000\">credentials</span>=<span style=\"color: #800080; text-decoration-color: #800080; font-style: italic\">None</span>,\n",
       "    <span style=\"color: #808000; text-decoration-color: #808000\">client_options</span>=<span style=\"color: #800080; text-decoration-color: #800080; font-style: italic\">None</span>,\n",
       "    <span style=\"color: #808000; text-decoration-color: #808000\">transport</span>=<span style=\"color: #800080; text-decoration-color: #800080; font-style: italic\">None</span>,\n",
       "    <span style=\"color: #808000; text-decoration-color: #808000\">request_options</span>=<span style=\"color: #800080; text-decoration-color: #800080; font-style: italic\">None</span>\n",
       "<span style=\"font-weight: bold\">)</span>\n",
       "</pre>\n"
      ],
      "text/plain": [
       "\u001b[1;35mGoogleGenerativeAIEmbeddings\u001b[0m\u001b[1m(\u001b[0m\n",
       "    \u001b[33mclient\u001b[0m=\u001b[1m<\u001b[0m\u001b[1;95mgoogle.ai.generativelanguage_v1beta.services.generative_service.client.GenerativeServiceClient\u001b[0m\u001b[39m object \u001b[0m\n",
       "\u001b[39mat \u001b[0m\u001b[1;36m0x000001F16ACEC2D0\u001b[0m\u001b[1m>\u001b[0m,\n",
       "    \u001b[33mmodel\u001b[0m=\u001b[32m'models/embedding-001'\u001b[0m,\n",
       "    \u001b[33mtask_type\u001b[0m=\u001b[3;35mNone\u001b[0m,\n",
       "    \u001b[33mgoogle_api_key\u001b[0m=\u001b[3;35mNone\u001b[0m,\n",
       "    \u001b[33mcredentials\u001b[0m=\u001b[3;35mNone\u001b[0m,\n",
       "    \u001b[33mclient_options\u001b[0m=\u001b[3;35mNone\u001b[0m,\n",
       "    \u001b[33mtransport\u001b[0m=\u001b[3;35mNone\u001b[0m,\n",
       "    \u001b[33mrequest_options\u001b[0m=\u001b[3;35mNone\u001b[0m\n",
       "\u001b[1m)\u001b[0m\n"
      ]
     },
     "metadata": {},
     "output_type": "display_data"
    }
   ],
   "source": [
    "from langchain_google_genai import GoogleGenerativeAIEmbeddings\n",
    "embeddings = GoogleGenerativeAIEmbeddings(model=\"models/embedding-001\")\n",
    "print(embeddings)"
   ]
  },
  {
   "cell_type": "code",
   "execution_count": 11,
   "metadata": {},
   "outputs": [
    {
     "data": {
      "text/html": [
       "<pre style=\"white-space:pre;overflow-x:auto;line-height:normal;font-family:Menlo,'DejaVu Sans Mono',consolas,'Courier New',monospace\"><span style=\"font-weight: bold\">[</span><span style=\"color: #008080; text-decoration-color: #008080; font-weight: bold\">-0.01070993673056364</span>, <span style=\"color: #008080; text-decoration-color: #008080; font-weight: bold\">-0.05309600383043289</span>, <span style=\"color: #008080; text-decoration-color: #008080; font-weight: bold\">0.009215787053108215</span>, <span style=\"color: #008080; text-decoration-color: #008080; font-weight: bold\">-0.015298676677048206</span>, <span style=\"color: #008080; text-decoration-color: #008080; font-weight: bold\">0.03825754299759865</span><span style=\"font-weight: bold\">]</span>\n",
       "</pre>\n"
      ],
      "text/plain": [
       "\u001b[1m[\u001b[0m\u001b[1;36m-0.01070993673056364\u001b[0m, \u001b[1;36m-0.05309600383043289\u001b[0m, \u001b[1;36m0.009215787053108215\u001b[0m, \u001b[1;36m-0.015298676677048206\u001b[0m, \u001b[1;36m0.03825754299759865\u001b[0m\u001b[1m]\u001b[0m\n"
      ]
     },
     "metadata": {},
     "output_type": "display_data"
    }
   ],
   "source": [
    "vector = embeddings.embed_query(\"This is Google GenAI embeddings\")\n",
    "print(vector[:5])  # just first 5 vectors"
   ]
  },
  {
   "cell_type": "code",
   "execution_count": 12,
   "metadata": {},
   "outputs": [
    {
     "data": {
      "text/plain": [
       "768"
      ]
     },
     "execution_count": 12,
     "metadata": {},
     "output_type": "execute_result"
    }
   ],
   "source": [
    "len(vector)"
   ]
  },
  {
   "cell_type": "code",
   "execution_count": 13,
   "metadata": {},
   "outputs": [],
   "source": [
    "embeddings_512 = GoogleGenerativeAIEmbeddings(model=\"models/text-embedding-004\")  # another model"
   ]
  },
  {
   "cell_type": "code",
   "execution_count": 14,
   "metadata": {},
   "outputs": [
    {
     "data": {
      "text/html": [
       "<pre style=\"white-space:pre;overflow-x:auto;line-height:normal;font-family:Menlo,'DejaVu Sans Mono',consolas,'Courier New',monospace\"><span style=\"font-weight: bold\">[</span><span style=\"color: #008080; text-decoration-color: #008080; font-weight: bold\">-0.01070993673056364</span>, <span style=\"color: #008080; text-decoration-color: #008080; font-weight: bold\">-0.05309600383043289</span>, <span style=\"color: #008080; text-decoration-color: #008080; font-weight: bold\">0.009215787053108215</span>, <span style=\"color: #008080; text-decoration-color: #008080; font-weight: bold\">-0.015298676677048206</span>, <span style=\"color: #008080; text-decoration-color: #008080; font-weight: bold\">0.03825754299759865</span><span style=\"font-weight: bold\">]</span>\n",
       "</pre>\n"
      ],
      "text/plain": [
       "\u001b[1m[\u001b[0m\u001b[1;36m-0.01070993673056364\u001b[0m, \u001b[1;36m-0.05309600383043289\u001b[0m, \u001b[1;36m0.009215787053108215\u001b[0m, \u001b[1;36m-0.015298676677048206\u001b[0m, \u001b[1;36m0.03825754299759865\u001b[0m\u001b[1m]\u001b[0m\n"
      ]
     },
     "metadata": {},
     "output_type": "display_data"
    }
   ],
   "source": [
    "vector_512 = embeddings_512.embed_query(\"This is Google GenAI embeddings\", output_dimensionality=512)\n",
    "print(vector[:5])  # just first 5 vectors"
   ]
  },
  {
   "cell_type": "code",
   "execution_count": 15,
   "metadata": {},
   "outputs": [
    {
     "data": {
      "text/plain": [
       "512"
      ]
     },
     "execution_count": 15,
     "metadata": {},
     "output_type": "execute_result"
    }
   ],
   "source": [
    "len(vector_512) # reduced dimensions"
   ]
  },
  {
   "cell_type": "markdown",
   "metadata": {},
   "source": [
    "## Converting document chunks to embeddings, storing them in Vectore DB and retrieving the chunks based on a Query"
   ]
  },
  {
   "cell_type": "code",
   "execution_count": 16,
   "metadata": {},
   "outputs": [
    {
     "data": {
      "text/plain": [
       "[Document(metadata={'source': 'Data Transformation Simplified Expl.txt'}, page_content=\"Data Transformation: Simplified Explanation\\n\\nWhat is Data Transformation?\\nData transformation is like changing the way we measure things to make them easier to understand and compare. It's like converting inches to centimeters or changing dollars to euros to help with calculations and comparisons.\\n\\nWhy and Where?\\nData transformation is important because it helps us work with data more effectively. We transform data to make it more useful for analysis and building models.\\n\\nPractical Uses:\\n- Scaling: Changing the range or size of numbers.\\n- Normalization: Making data follow a certain pattern or shape.\\n\\nReal-Life Example:\\nThink about temperatures. In some places, they use Celsius, and in others, Fahrenheit. If you want to compare temperatures accurately, you might convert everything to one scale, like Celsius.\\n\\nMin-Max Scaling: Simplified Explanation\\n\\nStandard Scaling is like making all your numbers play nicely with each other by giving them a common center (average) and making sure they're all about the same distance (standard deviation) from that center.\\n\\nWhy and Where?\\nWe use Standard Scaling when we want to compare data that might have different averages and spreads.\\n\\nPractical Uses:\\n- Stock Prices: Comparing stock prices with different averages and volatility.\\n- Test Scores: Comparing student scores on different tests with varying difficulty levels.\\n\\nReal-Life Example:\\nSuppose you're analyzing test scores from different subjects. Some subjects might have higher averages and more spread-out scores. To compare them fairly, you'd use Standard Scaling to bring them all to the same baseline.\\n\\nIn summary, data transformation methods like Min-Max Scaling and Standard Scaling are like adjusting data to make it easier to work with and compare. They're useful for various situations where you want to ensure fair comparisons and prevent some data from overshadowing others. Choosing the right method depends on what you're trying to achieve and the nature of your data.\")]"
      ]
     },
     "execution_count": 16,
     "metadata": {},
     "output_type": "execute_result"
    }
   ],
   "source": [
    "from langchain_community.document_loaders import TextLoader\n",
    "# load the text file\n",
    "loader = TextLoader(\"Data Transformation Simplified Expl.txt\")\n",
    "text_document = loader.load()\n",
    "text_document"
   ]
  },
  {
   "cell_type": "code",
   "execution_count": 17,
   "metadata": {},
   "outputs": [
    {
     "data": {
      "text/plain": [
       "[Document(metadata={'source': 'Data Transformation Simplified Expl.txt'}, page_content=\"Data Transformation: Simplified Explanation\\n\\nWhat is Data Transformation?\\nData transformation is like changing the way we measure things to make them easier to understand and compare. It's like converting inches to centimeters or changing dollars to euros to help with calculations and comparisons.\"),\n",
       " Document(metadata={'source': 'Data Transformation Simplified Expl.txt'}, page_content='Why and Where?\\nData transformation is important because it helps us work with data more effectively. We transform data to make it more useful for analysis and building models.'),\n",
       " Document(metadata={'source': 'Data Transformation Simplified Expl.txt'}, page_content='Practical Uses:\\n- Scaling: Changing the range or size of numbers.\\n- Normalization: Making data follow a certain pattern or shape.'),\n",
       " Document(metadata={'source': 'Data Transformation Simplified Expl.txt'}, page_content='Real-Life Example:\\nThink about temperatures. In some places, they use Celsius, and in others, Fahrenheit. If you want to compare temperatures accurately, you might convert everything to one scale, like Celsius.\\n\\nMin-Max Scaling: Simplified Explanation'),\n",
       " Document(metadata={'source': 'Data Transformation Simplified Expl.txt'}, page_content=\"Min-Max Scaling: Simplified Explanation\\n\\nStandard Scaling is like making all your numbers play nicely with each other by giving them a common center (average) and making sure they're all about the same distance (standard deviation) from that center.\"),\n",
       " Document(metadata={'source': 'Data Transformation Simplified Expl.txt'}, page_content='Why and Where?\\nWe use Standard Scaling when we want to compare data that might have different averages and spreads.'),\n",
       " Document(metadata={'source': 'Data Transformation Simplified Expl.txt'}, page_content='Practical Uses:\\n- Stock Prices: Comparing stock prices with different averages and volatility.\\n- Test Scores: Comparing student scores on different tests with varying difficulty levels.'),\n",
       " Document(metadata={'source': 'Data Transformation Simplified Expl.txt'}, page_content=\"Real-Life Example:\\nSuppose you're analyzing test scores from different subjects. Some subjects might have higher averages and more spread-out scores. To compare them fairly, you'd use Standard Scaling to bring them all to the same baseline.\"),\n",
       " Document(metadata={'source': 'Data Transformation Simplified Expl.txt'}, page_content=\"In summary, data transformation methods like Min-Max Scaling and Standard Scaling are like adjusting data to make it easier to work with and compare. They're useful for various situations where you want to ensure fair comparisons and prevent some data from overshadowing others. Choosing the right\"),\n",
       " Document(metadata={'source': 'Data Transformation Simplified Expl.txt'}, page_content=\"some data from overshadowing others. Choosing the right method depends on what you're trying to achieve and the nature of your data.\")]"
      ]
     },
     "execution_count": 17,
     "metadata": {},
     "output_type": "execute_result"
    }
   ],
   "source": [
    "from langchain_text_splitters import RecursiveCharacterTextSplitter\n",
    "# split the document into chunks\n",
    "splitter = RecursiveCharacterTextSplitter(chunk_size=300, chunk_overlap=60)\n",
    "doc_chunks = splitter.split_documents(text_document)\n",
    "doc_chunks"
   ]
  },
  {
   "cell_type": "markdown",
   "metadata": {},
   "source": [
    "## Chroma DB"
   ]
  },
  {
   "cell_type": "code",
   "execution_count": 18,
   "metadata": {},
   "outputs": [
    {
     "data": {
      "text/plain": [
       "<langchain_community.vectorstores.chroma.Chroma at 0x1f16b0d0350>"
      ]
     },
     "execution_count": 18,
     "metadata": {},
     "output_type": "execute_result"
    }
   ],
   "source": [
    "from langchain_community.vectorstores import Chroma\n",
    "# Chroma vectorestore\n",
    "chroma_vectorstore = Chroma.from_documents(doc_chunks, embedding=embeddings, persist_directory = \"./chroma_db\")\n",
    "chroma_vectorstore"
   ]
  },
  {
   "cell_type": "code",
   "execution_count": 19,
   "metadata": {},
   "outputs": [
    {
     "data": {
      "text/html": [
       "<pre style=\"white-space:pre;overflow-x:auto;line-height:normal;font-family:Menlo,'DejaVu Sans Mono',consolas,'Courier New',monospace\"><span style=\"font-weight: bold\">[</span>\n",
       "    <span style=\"color: #800080; text-decoration-color: #800080; font-weight: bold\">Document</span><span style=\"font-weight: bold\">(</span>\n",
       "        <span style=\"color: #808000; text-decoration-color: #808000\">metadata</span>=<span style=\"font-weight: bold\">{</span><span style=\"color: #008000; text-decoration-color: #008000\">'source'</span>: <span style=\"color: #008000; text-decoration-color: #008000\">'Data Transformation Simplified Expl.txt'</span><span style=\"font-weight: bold\">}</span>,\n",
       "        <span style=\"color: #808000; text-decoration-color: #808000\">page_content</span>=<span style=\"color: #008000; text-decoration-color: #008000\">\"Data Transformation: Simplified Explanation\\n\\nWhat is Data Transformation?\\nData </span>\n",
       "<span style=\"color: #008000; text-decoration-color: #008000\">transformation is like changing the way we measure things to make them easier to understand and compare. It's like </span>\n",
       "<span style=\"color: #008000; text-decoration-color: #008000\">converting inches to centimeters or changing dollars to euros to help with calculations and comparisons.\"</span>\n",
       "    <span style=\"font-weight: bold\">)</span>,\n",
       "    <span style=\"color: #800080; text-decoration-color: #800080; font-weight: bold\">Document</span><span style=\"font-weight: bold\">(</span>\n",
       "        <span style=\"color: #808000; text-decoration-color: #808000\">metadata</span>=<span style=\"font-weight: bold\">{</span><span style=\"color: #008000; text-decoration-color: #008000\">'source'</span>: <span style=\"color: #008000; text-decoration-color: #008000\">'Data Transformation Simplified Expl.txt'</span><span style=\"font-weight: bold\">}</span>,\n",
       "        <span style=\"color: #808000; text-decoration-color: #808000\">page_content</span>=<span style=\"color: #008000; text-decoration-color: #008000\">'Why and Where?\\nData transformation is important because it helps us work with data more </span>\n",
       "<span style=\"color: #008000; text-decoration-color: #008000\">effectively. We transform data to make it more useful for analysis and building models.'</span>\n",
       "    <span style=\"font-weight: bold\">)</span>,\n",
       "    <span style=\"color: #800080; text-decoration-color: #800080; font-weight: bold\">Document</span><span style=\"font-weight: bold\">(</span>\n",
       "        <span style=\"color: #808000; text-decoration-color: #808000\">metadata</span>=<span style=\"font-weight: bold\">{</span><span style=\"color: #008000; text-decoration-color: #008000\">'source'</span>: <span style=\"color: #008000; text-decoration-color: #008000\">'Data Transformation Simplified Expl.txt'</span><span style=\"font-weight: bold\">}</span>,\n",
       "        <span style=\"color: #808000; text-decoration-color: #808000\">page_content</span>=<span style=\"color: #008000; text-decoration-color: #008000\">'Practical Uses:\\n- Scaling: Changing the range or size of numbers.\\n- Normalization: Making </span>\n",
       "<span style=\"color: #008000; text-decoration-color: #008000\">data follow a certain pattern or shape.'</span>\n",
       "    <span style=\"font-weight: bold\">)</span>\n",
       "<span style=\"font-weight: bold\">]</span>\n",
       "</pre>\n"
      ],
      "text/plain": [
       "\u001b[1m[\u001b[0m\n",
       "    \u001b[1;35mDocument\u001b[0m\u001b[1m(\u001b[0m\n",
       "        \u001b[33mmetadata\u001b[0m=\u001b[1m{\u001b[0m\u001b[32m'source'\u001b[0m: \u001b[32m'Data Transformation Simplified Expl.txt'\u001b[0m\u001b[1m}\u001b[0m,\n",
       "        \u001b[33mpage_content\u001b[0m=\u001b[32m\"Data\u001b[0m\u001b[32m Transformation: Simplified Explanation\\n\\nWhat is Data Transformation?\\nData \u001b[0m\n",
       "\u001b[32mtransformation is like changing the way we measure things to make them easier to understand and compare. It's like \u001b[0m\n",
       "\u001b[32mconverting inches to centimeters or changing dollars to euros to help with calculations and comparisons.\"\u001b[0m\n",
       "    \u001b[1m)\u001b[0m,\n",
       "    \u001b[1;35mDocument\u001b[0m\u001b[1m(\u001b[0m\n",
       "        \u001b[33mmetadata\u001b[0m=\u001b[1m{\u001b[0m\u001b[32m'source'\u001b[0m: \u001b[32m'Data Transformation Simplified Expl.txt'\u001b[0m\u001b[1m}\u001b[0m,\n",
       "        \u001b[33mpage_content\u001b[0m=\u001b[32m'Why and Where?\\nData transformation is important because it helps us work with data more \u001b[0m\n",
       "\u001b[32meffectively. We transform data to make it more useful for analysis and building models.'\u001b[0m\n",
       "    \u001b[1m)\u001b[0m,\n",
       "    \u001b[1;35mDocument\u001b[0m\u001b[1m(\u001b[0m\n",
       "        \u001b[33mmetadata\u001b[0m=\u001b[1m{\u001b[0m\u001b[32m'source'\u001b[0m: \u001b[32m'Data Transformation Simplified Expl.txt'\u001b[0m\u001b[1m}\u001b[0m,\n",
       "        \u001b[33mpage_content\u001b[0m=\u001b[32m'Practical Uses:\\n- Scaling: Changing the range or size of numbers.\\n- Normalization: Making \u001b[0m\n",
       "\u001b[32mdata follow a certain pattern or shape.'\u001b[0m\n",
       "    \u001b[1m)\u001b[0m\n",
       "\u001b[1m]\u001b[0m\n"
      ]
     },
     "metadata": {},
     "output_type": "display_data"
    }
   ],
   "source": [
    "# using similarity search to retrieve relevant chunks from vectorstore\n",
    "query = \"What is Data Transformation?\"\n",
    "retrieved_chunks = chroma_vectorstore.similarity_search(query=query, k=3)\n",
    "print(retrieved_chunks)"
   ]
  },
  {
   "cell_type": "code",
   "execution_count": 20,
   "metadata": {},
   "outputs": [
    {
     "data": {
      "text/html": [
       "<pre style=\"white-space:pre;overflow-x:auto;line-height:normal;font-family:Menlo,'DejaVu Sans Mono',consolas,'Courier New',monospace\"><span style=\"font-weight: bold\">[</span>\n",
       "    <span style=\"font-weight: bold\">(</span>\n",
       "        <span style=\"color: #800080; text-decoration-color: #800080; font-weight: bold\">Document</span><span style=\"font-weight: bold\">(</span>\n",
       "            <span style=\"color: #808000; text-decoration-color: #808000\">metadata</span>=<span style=\"font-weight: bold\">{</span><span style=\"color: #008000; text-decoration-color: #008000\">'source'</span>: <span style=\"color: #008000; text-decoration-color: #008000\">'Data Transformation Simplified Expl.txt'</span><span style=\"font-weight: bold\">}</span>,\n",
       "            <span style=\"color: #808000; text-decoration-color: #808000\">page_content</span>=<span style=\"color: #008000; text-decoration-color: #008000\">\"Data Transformation: Simplified Explanation\\n\\nWhat is Data Transformation?\\nData </span>\n",
       "<span style=\"color: #008000; text-decoration-color: #008000\">transformation is like changing the way we measure things to make them easier to understand and compare. It's like </span>\n",
       "<span style=\"color: #008000; text-decoration-color: #008000\">converting inches to centimeters or changing dollars to euros to help with calculations and comparisons.\"</span>\n",
       "        <span style=\"font-weight: bold\">)</span>,\n",
       "        <span style=\"color: #008080; text-decoration-color: #008080; font-weight: bold\">0.6948075183300502</span>\n",
       "    <span style=\"font-weight: bold\">)</span>,\n",
       "    <span style=\"font-weight: bold\">(</span>\n",
       "        <span style=\"color: #800080; text-decoration-color: #800080; font-weight: bold\">Document</span><span style=\"font-weight: bold\">(</span>\n",
       "            <span style=\"color: #808000; text-decoration-color: #808000\">metadata</span>=<span style=\"font-weight: bold\">{</span><span style=\"color: #008000; text-decoration-color: #008000\">'source'</span>: <span style=\"color: #008000; text-decoration-color: #008000\">'Data Transformation Simplified Expl.txt'</span><span style=\"font-weight: bold\">}</span>,\n",
       "            <span style=\"color: #808000; text-decoration-color: #808000\">page_content</span>=<span style=\"color: #008000; text-decoration-color: #008000\">'Why and Where?\\nData transformation is important because it helps us work with data more </span>\n",
       "<span style=\"color: #008000; text-decoration-color: #008000\">effectively. We transform data to make it more useful for analysis and building models.'</span>\n",
       "        <span style=\"font-weight: bold\">)</span>,\n",
       "        <span style=\"color: #008080; text-decoration-color: #008080; font-weight: bold\">0.6704591423063113</span>\n",
       "    <span style=\"font-weight: bold\">)</span>\n",
       "<span style=\"font-weight: bold\">]</span>\n",
       "</pre>\n"
      ],
      "text/plain": [
       "\u001b[1m[\u001b[0m\n",
       "    \u001b[1m(\u001b[0m\n",
       "        \u001b[1;35mDocument\u001b[0m\u001b[1m(\u001b[0m\n",
       "            \u001b[33mmetadata\u001b[0m=\u001b[1m{\u001b[0m\u001b[32m'source'\u001b[0m: \u001b[32m'Data Transformation Simplified Expl.txt'\u001b[0m\u001b[1m}\u001b[0m,\n",
       "            \u001b[33mpage_content\u001b[0m=\u001b[32m\"Data\u001b[0m\u001b[32m Transformation: Simplified Explanation\\n\\nWhat is Data Transformation?\\nData \u001b[0m\n",
       "\u001b[32mtransformation is like changing the way we measure things to make them easier to understand and compare. It's like \u001b[0m\n",
       "\u001b[32mconverting inches to centimeters or changing dollars to euros to help with calculations and comparisons.\"\u001b[0m\n",
       "        \u001b[1m)\u001b[0m,\n",
       "        \u001b[1;36m0.6948075183300502\u001b[0m\n",
       "    \u001b[1m)\u001b[0m,\n",
       "    \u001b[1m(\u001b[0m\n",
       "        \u001b[1;35mDocument\u001b[0m\u001b[1m(\u001b[0m\n",
       "            \u001b[33mmetadata\u001b[0m=\u001b[1m{\u001b[0m\u001b[32m'source'\u001b[0m: \u001b[32m'Data Transformation Simplified Expl.txt'\u001b[0m\u001b[1m}\u001b[0m,\n",
       "            \u001b[33mpage_content\u001b[0m=\u001b[32m'Why and Where?\\nData transformation is important because it helps us work with data more \u001b[0m\n",
       "\u001b[32meffectively. We transform data to make it more useful for analysis and building models.'\u001b[0m\n",
       "        \u001b[1m)\u001b[0m,\n",
       "        \u001b[1;36m0.6704591423063113\u001b[0m\n",
       "    \u001b[1m)\u001b[0m\n",
       "\u001b[1m]\u001b[0m\n"
      ]
     },
     "metadata": {},
     "output_type": "display_data"
    }
   ],
   "source": [
    "# using similarity search with relevance score to retrieve relevant chunks\n",
    "retrieved_chunks = chroma_vectorstore.similarity_search_with_relevance_scores(query=query, k=2)\n",
    "print(retrieved_chunks)"
   ]
  },
  {
   "cell_type": "markdown",
   "metadata": {},
   "source": [
    "### Deleting all embeddings from ChromaDB"
   ]
  },
  {
   "cell_type": "code",
   "execution_count": 21,
   "metadata": {},
   "outputs": [],
   "source": [
    "ids = chroma_vectorstore.get(where={'source': 'Data Transformation Simplified Expl.txt'})['ids']"
   ]
  },
  {
   "cell_type": "code",
   "execution_count": 22,
   "metadata": {},
   "outputs": [],
   "source": [
    "# deleting all ids\n",
    "chroma_vectorstore.delete(ids=ids)"
   ]
  },
  {
   "cell_type": "code",
   "execution_count": 23,
   "metadata": {},
   "outputs": [
    {
     "data": {
      "text/plain": [
       "[]"
      ]
     },
     "execution_count": 23,
     "metadata": {},
     "output_type": "execute_result"
    }
   ],
   "source": [
    "# Now verify is all embeddins have been deleted\n",
    "chroma_vectorstore.get(where={'source': 'Data Transformation Simplified Expl.txt'})['ids']"
   ]
  },
  {
   "cell_type": "markdown",
   "metadata": {},
   "source": [
    "## FAISS DB"
   ]
  },
  {
   "cell_type": "code",
   "execution_count": 24,
   "metadata": {},
   "outputs": [
    {
     "data": {
      "text/plain": [
       "<langchain_community.vectorstores.faiss.FAISS at 0x1f16b0d0250>"
      ]
     },
     "execution_count": 24,
     "metadata": {},
     "output_type": "execute_result"
    }
   ],
   "source": [
    "# Creating a vectorstore that will store our document chunks in the form of embeddings\n",
    "from langchain_community.vectorstores import FAISS\n",
    "# FAISS vectorestore\n",
    "\n",
    "faiss_vectorstore = FAISS.from_documents(doc_chunks, embedding=embeddings)\n",
    "faiss_vectorstore"
   ]
  },
  {
   "cell_type": "code",
   "execution_count": 25,
   "metadata": {},
   "outputs": [
    {
     "data": {
      "text/html": [
       "<pre style=\"white-space:pre;overflow-x:auto;line-height:normal;font-family:Menlo,'DejaVu Sans Mono',consolas,'Courier New',monospace\"><span style=\"font-weight: bold\">[</span>\n",
       "    <span style=\"color: #800080; text-decoration-color: #800080; font-weight: bold\">Document</span><span style=\"font-weight: bold\">(</span>\n",
       "        <span style=\"color: #808000; text-decoration-color: #808000\">metadata</span>=<span style=\"font-weight: bold\">{</span><span style=\"color: #008000; text-decoration-color: #008000\">'source'</span>: <span style=\"color: #008000; text-decoration-color: #008000\">'Data Transformation Simplified Expl.txt'</span><span style=\"font-weight: bold\">}</span>,\n",
       "        <span style=\"color: #808000; text-decoration-color: #808000\">page_content</span>=<span style=\"color: #008000; text-decoration-color: #008000\">\"Data Transformation: Simplified Explanation\\n\\nWhat is Data Transformation?\\nData </span>\n",
       "<span style=\"color: #008000; text-decoration-color: #008000\">transformation is like changing the way we measure things to make them easier to understand and compare. It's like </span>\n",
       "<span style=\"color: #008000; text-decoration-color: #008000\">converting inches to centimeters or changing dollars to euros to help with calculations and comparisons.\"</span>\n",
       "    <span style=\"font-weight: bold\">)</span>,\n",
       "    <span style=\"color: #800080; text-decoration-color: #800080; font-weight: bold\">Document</span><span style=\"font-weight: bold\">(</span>\n",
       "        <span style=\"color: #808000; text-decoration-color: #808000\">metadata</span>=<span style=\"font-weight: bold\">{</span><span style=\"color: #008000; text-decoration-color: #008000\">'source'</span>: <span style=\"color: #008000; text-decoration-color: #008000\">'Data Transformation Simplified Expl.txt'</span><span style=\"font-weight: bold\">}</span>,\n",
       "        <span style=\"color: #808000; text-decoration-color: #808000\">page_content</span>=<span style=\"color: #008000; text-decoration-color: #008000\">'Why and Where?\\nData transformation is important because it helps us work with data more </span>\n",
       "<span style=\"color: #008000; text-decoration-color: #008000\">effectively. We transform data to make it more useful for analysis and building models.'</span>\n",
       "    <span style=\"font-weight: bold\">)</span>\n",
       "<span style=\"font-weight: bold\">]</span>\n",
       "</pre>\n"
      ],
      "text/plain": [
       "\u001b[1m[\u001b[0m\n",
       "    \u001b[1;35mDocument\u001b[0m\u001b[1m(\u001b[0m\n",
       "        \u001b[33mmetadata\u001b[0m=\u001b[1m{\u001b[0m\u001b[32m'source'\u001b[0m: \u001b[32m'Data Transformation Simplified Expl.txt'\u001b[0m\u001b[1m}\u001b[0m,\n",
       "        \u001b[33mpage_content\u001b[0m=\u001b[32m\"Data\u001b[0m\u001b[32m Transformation: Simplified Explanation\\n\\nWhat is Data Transformation?\\nData \u001b[0m\n",
       "\u001b[32mtransformation is like changing the way we measure things to make them easier to understand and compare. It's like \u001b[0m\n",
       "\u001b[32mconverting inches to centimeters or changing dollars to euros to help with calculations and comparisons.\"\u001b[0m\n",
       "    \u001b[1m)\u001b[0m,\n",
       "    \u001b[1;35mDocument\u001b[0m\u001b[1m(\u001b[0m\n",
       "        \u001b[33mmetadata\u001b[0m=\u001b[1m{\u001b[0m\u001b[32m'source'\u001b[0m: \u001b[32m'Data Transformation Simplified Expl.txt'\u001b[0m\u001b[1m}\u001b[0m,\n",
       "        \u001b[33mpage_content\u001b[0m=\u001b[32m'Why and Where?\\nData transformation is important because it helps us work with data more \u001b[0m\n",
       "\u001b[32meffectively. We transform data to make it more useful for analysis and building models.'\u001b[0m\n",
       "    \u001b[1m)\u001b[0m\n",
       "\u001b[1m]\u001b[0m\n"
      ]
     },
     "metadata": {},
     "output_type": "display_data"
    }
   ],
   "source": [
    "# using similarity search to retrieve relevant chunks from vectorstore\n",
    "query = \"What is Data Transformation?\"\n",
    "retrieved_chunks = faiss_vectorstore.similarity_search(query=query, k=2)\n",
    "print(retrieved_chunks)"
   ]
  },
  {
   "cell_type": "code",
   "execution_count": 26,
   "metadata": {},
   "outputs": [
    {
     "data": {
      "text/html": [
       "<pre style=\"white-space:pre;overflow-x:auto;line-height:normal;font-family:Menlo,'DejaVu Sans Mono',consolas,'Courier New',monospace\"><span style=\"font-weight: bold\">[</span>\n",
       "    <span style=\"font-weight: bold\">(</span>\n",
       "        <span style=\"color: #800080; text-decoration-color: #800080; font-weight: bold\">Document</span><span style=\"font-weight: bold\">(</span>\n",
       "            <span style=\"color: #808000; text-decoration-color: #808000\">metadata</span>=<span style=\"font-weight: bold\">{</span><span style=\"color: #008000; text-decoration-color: #008000\">'source'</span>: <span style=\"color: #008000; text-decoration-color: #008000\">'Data Transformation Simplified Expl.txt'</span><span style=\"font-weight: bold\">}</span>,\n",
       "            <span style=\"color: #808000; text-decoration-color: #808000\">page_content</span>=<span style=\"color: #008000; text-decoration-color: #008000\">\"Data Transformation: Simplified Explanation\\n\\nWhat is Data Transformation?\\nData </span>\n",
       "<span style=\"color: #008000; text-decoration-color: #008000\">transformation is like changing the way we measure things to make them easier to understand and compare. It's like </span>\n",
       "<span style=\"color: #008000; text-decoration-color: #008000\">converting inches to centimeters or changing dollars to euros to help with calculations and comparisons.\"</span>\n",
       "        <span style=\"font-weight: bold\">)</span>,\n",
       "        <span style=\"color: #008080; text-decoration-color: #008080; font-weight: bold\">0.43160737</span>\n",
       "    <span style=\"font-weight: bold\">)</span>,\n",
       "    <span style=\"font-weight: bold\">(</span>\n",
       "        <span style=\"color: #800080; text-decoration-color: #800080; font-weight: bold\">Document</span><span style=\"font-weight: bold\">(</span>\n",
       "            <span style=\"color: #808000; text-decoration-color: #808000\">metadata</span>=<span style=\"font-weight: bold\">{</span><span style=\"color: #008000; text-decoration-color: #008000\">'source'</span>: <span style=\"color: #008000; text-decoration-color: #008000\">'Data Transformation Simplified Expl.txt'</span><span style=\"font-weight: bold\">}</span>,\n",
       "            <span style=\"color: #808000; text-decoration-color: #808000\">page_content</span>=<span style=\"color: #008000; text-decoration-color: #008000\">'Why and Where?\\nData transformation is important because it helps us work with data more </span>\n",
       "<span style=\"color: #008000; text-decoration-color: #008000\">effectively. We transform data to make it more useful for analysis and building models.'</span>\n",
       "        <span style=\"font-weight: bold\">)</span>,\n",
       "        <span style=\"color: #008080; text-decoration-color: #008080; font-weight: bold\">0.46604115</span>\n",
       "    <span style=\"font-weight: bold\">)</span>\n",
       "<span style=\"font-weight: bold\">]</span>\n",
       "</pre>\n"
      ],
      "text/plain": [
       "\u001b[1m[\u001b[0m\n",
       "    \u001b[1m(\u001b[0m\n",
       "        \u001b[1;35mDocument\u001b[0m\u001b[1m(\u001b[0m\n",
       "            \u001b[33mmetadata\u001b[0m=\u001b[1m{\u001b[0m\u001b[32m'source'\u001b[0m: \u001b[32m'Data Transformation Simplified Expl.txt'\u001b[0m\u001b[1m}\u001b[0m,\n",
       "            \u001b[33mpage_content\u001b[0m=\u001b[32m\"Data\u001b[0m\u001b[32m Transformation: Simplified Explanation\\n\\nWhat is Data Transformation?\\nData \u001b[0m\n",
       "\u001b[32mtransformation is like changing the way we measure things to make them easier to understand and compare. It's like \u001b[0m\n",
       "\u001b[32mconverting inches to centimeters or changing dollars to euros to help with calculations and comparisons.\"\u001b[0m\n",
       "        \u001b[1m)\u001b[0m,\n",
       "        \u001b[1;36m0.43160737\u001b[0m\n",
       "    \u001b[1m)\u001b[0m,\n",
       "    \u001b[1m(\u001b[0m\n",
       "        \u001b[1;35mDocument\u001b[0m\u001b[1m(\u001b[0m\n",
       "            \u001b[33mmetadata\u001b[0m=\u001b[1m{\u001b[0m\u001b[32m'source'\u001b[0m: \u001b[32m'Data Transformation Simplified Expl.txt'\u001b[0m\u001b[1m}\u001b[0m,\n",
       "            \u001b[33mpage_content\u001b[0m=\u001b[32m'Why and Where?\\nData transformation is important because it helps us work with data more \u001b[0m\n",
       "\u001b[32meffectively. We transform data to make it more useful for analysis and building models.'\u001b[0m\n",
       "        \u001b[1m)\u001b[0m,\n",
       "        \u001b[1;36m0.46604115\u001b[0m\n",
       "    \u001b[1m)\u001b[0m\n",
       "\u001b[1m]\u001b[0m\n"
      ]
     },
     "metadata": {},
     "output_type": "display_data"
    }
   ],
   "source": [
    "# using similarity search with score to retrieve relevant chunks\n",
    "retrieved_chunks = faiss_vectorstore.similarity_search_with_score(query=query, k=2)\n",
    "print(retrieved_chunks)"
   ]
  },
  {
   "cell_type": "code",
   "execution_count": 27,
   "metadata": {},
   "outputs": [
    {
     "data": {
      "text/html": [
       "<pre style=\"white-space:pre;overflow-x:auto;line-height:normal;font-family:Menlo,'DejaVu Sans Mono',consolas,'Courier New',monospace\"><span style=\"font-weight: bold\">[</span>\n",
       "    <span style=\"font-weight: bold\">(</span>\n",
       "        <span style=\"color: #800080; text-decoration-color: #800080; font-weight: bold\">Document</span><span style=\"font-weight: bold\">(</span>\n",
       "            <span style=\"color: #808000; text-decoration-color: #808000\">metadata</span>=<span style=\"font-weight: bold\">{</span><span style=\"color: #008000; text-decoration-color: #008000\">'source'</span>: <span style=\"color: #008000; text-decoration-color: #008000\">'Data Transformation Simplified Expl.txt'</span><span style=\"font-weight: bold\">}</span>,\n",
       "            <span style=\"color: #808000; text-decoration-color: #808000\">page_content</span>=<span style=\"color: #008000; text-decoration-color: #008000\">\"Data Transformation: Simplified Explanation\\n\\nWhat is Data Transformation?\\nData </span>\n",
       "<span style=\"color: #008000; text-decoration-color: #008000\">transformation is like changing the way we measure things to make them easier to understand and compare. It's like </span>\n",
       "<span style=\"color: #008000; text-decoration-color: #008000\">converting inches to centimeters or changing dollars to euros to help with calculations and comparisons.\"</span>\n",
       "        <span style=\"font-weight: bold\">)</span>,\n",
       "        <span style=\"color: #008080; text-decoration-color: #008080; font-weight: bold\">0.6948075049683695</span>\n",
       "    <span style=\"font-weight: bold\">)</span>,\n",
       "    <span style=\"font-weight: bold\">(</span>\n",
       "        <span style=\"color: #800080; text-decoration-color: #800080; font-weight: bold\">Document</span><span style=\"font-weight: bold\">(</span>\n",
       "            <span style=\"color: #808000; text-decoration-color: #808000\">metadata</span>=<span style=\"font-weight: bold\">{</span><span style=\"color: #008000; text-decoration-color: #008000\">'source'</span>: <span style=\"color: #008000; text-decoration-color: #008000\">'Data Transformation Simplified Expl.txt'</span><span style=\"font-weight: bold\">}</span>,\n",
       "            <span style=\"color: #808000; text-decoration-color: #808000\">page_content</span>=<span style=\"color: #008000; text-decoration-color: #008000\">'Why and Where?\\nData transformation is important because it helps us work with data more </span>\n",
       "<span style=\"color: #008000; text-decoration-color: #008000\">effectively. We transform data to make it more useful for analysis and building models.'</span>\n",
       "        <span style=\"font-weight: bold\">)</span>,\n",
       "        <span style=\"color: #008080; text-decoration-color: #008080; font-weight: bold\">0.6704591441430805</span>\n",
       "    <span style=\"font-weight: bold\">)</span>\n",
       "<span style=\"font-weight: bold\">]</span>\n",
       "</pre>\n"
      ],
      "text/plain": [
       "\u001b[1m[\u001b[0m\n",
       "    \u001b[1m(\u001b[0m\n",
       "        \u001b[1;35mDocument\u001b[0m\u001b[1m(\u001b[0m\n",
       "            \u001b[33mmetadata\u001b[0m=\u001b[1m{\u001b[0m\u001b[32m'source'\u001b[0m: \u001b[32m'Data Transformation Simplified Expl.txt'\u001b[0m\u001b[1m}\u001b[0m,\n",
       "            \u001b[33mpage_content\u001b[0m=\u001b[32m\"Data\u001b[0m\u001b[32m Transformation: Simplified Explanation\\n\\nWhat is Data Transformation?\\nData \u001b[0m\n",
       "\u001b[32mtransformation is like changing the way we measure things to make them easier to understand and compare. It's like \u001b[0m\n",
       "\u001b[32mconverting inches to centimeters or changing dollars to euros to help with calculations and comparisons.\"\u001b[0m\n",
       "        \u001b[1m)\u001b[0m,\n",
       "        \u001b[1;36m0.6948075049683695\u001b[0m\n",
       "    \u001b[1m)\u001b[0m,\n",
       "    \u001b[1m(\u001b[0m\n",
       "        \u001b[1;35mDocument\u001b[0m\u001b[1m(\u001b[0m\n",
       "            \u001b[33mmetadata\u001b[0m=\u001b[1m{\u001b[0m\u001b[32m'source'\u001b[0m: \u001b[32m'Data Transformation Simplified Expl.txt'\u001b[0m\u001b[1m}\u001b[0m,\n",
       "            \u001b[33mpage_content\u001b[0m=\u001b[32m'Why and Where?\\nData transformation is important because it helps us work with data more \u001b[0m\n",
       "\u001b[32meffectively. We transform data to make it more useful for analysis and building models.'\u001b[0m\n",
       "        \u001b[1m)\u001b[0m,\n",
       "        \u001b[1;36m0.6704591441430805\u001b[0m\n",
       "    \u001b[1m)\u001b[0m\n",
       "\u001b[1m]\u001b[0m\n"
      ]
     },
     "metadata": {},
     "output_type": "display_data"
    }
   ],
   "source": [
    "# using similarity search with relevance score to retrieve relevant chunks\n",
    "retrieved_chunks = faiss_vectorstore.similarity_search_with_relevance_scores(query=query, k=2)\n",
    "print(retrieved_chunks)"
   ]
  },
  {
   "cell_type": "markdown",
   "metadata": {},
   "source": [
    "### Deleting all embeddings from FAISS"
   ]
  },
  {
   "cell_type": "code",
   "execution_count": 28,
   "metadata": {},
   "outputs": [],
   "source": [
    "ids = (faiss_vectorstore.index_to_docstore_id).values()"
   ]
  },
  {
   "cell_type": "code",
   "execution_count": 29,
   "metadata": {},
   "outputs": [
    {
     "data": {
      "text/plain": [
       "True"
      ]
     },
     "execution_count": 29,
     "metadata": {},
     "output_type": "execute_result"
    }
   ],
   "source": [
    "faiss_vectorstore.delete(ids=ids)"
   ]
  },
  {
   "cell_type": "code",
   "execution_count": 30,
   "metadata": {},
   "outputs": [
    {
     "data": {
      "text/plain": [
       "{}"
      ]
     },
     "execution_count": 30,
     "metadata": {},
     "output_type": "execute_result"
    }
   ],
   "source": [
    "# Now verify is all embeddins have been deleted\n",
    "faiss_vectorstore.index_to_docstore_id"
   ]
  },
  {
   "cell_type": "markdown",
   "metadata": {},
   "source": [
    "# 2. Cohere Embeddings"
   ]
  },
  {
   "cell_type": "code",
   "execution_count": 31,
   "metadata": {},
   "outputs": [],
   "source": [
    "from langchain_cohere import CohereEmbeddings"
   ]
  },
  {
   "cell_type": "markdown",
   "metadata": {},
   "source": [
    "# 3. Huggingface Embeddings"
   ]
  },
  {
   "cell_type": "code",
   "execution_count": 34,
   "metadata": {},
   "outputs": [
    {
     "data": {
      "text/html": [
       "<pre style=\"white-space:pre;overflow-x:auto;line-height:normal;font-family:Menlo,'DejaVu Sans Mono',consolas,'Courier New',monospace\"><span style=\"color: #800080; text-decoration-color: #800080; font-weight: bold\">HuggingFaceEmbeddings</span><span style=\"font-weight: bold\">(</span>\n",
       "    <span style=\"color: #808000; text-decoration-color: #808000\">client</span>=<span style=\"color: #800080; text-decoration-color: #800080; font-weight: bold\">SentenceTransformer</span><span style=\"font-weight: bold\">(</span>\n",
       "  <span style=\"font-weight: bold\">(</span><span style=\"color: #008080; text-decoration-color: #008080; font-weight: bold\">0</span><span style=\"font-weight: bold\">)</span>: <span style=\"color: #800080; text-decoration-color: #800080; font-weight: bold\">Transformer</span><span style=\"font-weight: bold\">({</span><span style=\"color: #008000; text-decoration-color: #008000\">'max_seq_length'</span>: <span style=\"color: #008080; text-decoration-color: #008080; font-weight: bold\">256</span>, <span style=\"color: #008000; text-decoration-color: #008000\">'do_lower_case'</span>: <span style=\"color: #ff0000; text-decoration-color: #ff0000; font-style: italic\">False</span><span style=\"font-weight: bold\">})</span> with Transformer model: BertModel \n",
       "  <span style=\"font-weight: bold\">(</span><span style=\"color: #008080; text-decoration-color: #008080; font-weight: bold\">1</span><span style=\"font-weight: bold\">)</span>: <span style=\"color: #800080; text-decoration-color: #800080; font-weight: bold\">Pooling</span><span style=\"font-weight: bold\">({</span><span style=\"color: #008000; text-decoration-color: #008000\">'word_embedding_dimension'</span>: <span style=\"color: #008080; text-decoration-color: #008080; font-weight: bold\">384</span>, <span style=\"color: #008000; text-decoration-color: #008000\">'pooling_mode_cls_token'</span>: <span style=\"color: #ff0000; text-decoration-color: #ff0000; font-style: italic\">False</span>, <span style=\"color: #008000; text-decoration-color: #008000\">'pooling_mode_mean_tokens'</span>: <span style=\"color: #00ff00; text-decoration-color: #00ff00; font-style: italic\">True</span>,\n",
       "<span style=\"color: #008000; text-decoration-color: #008000\">'pooling_mode_max_tokens'</span>: <span style=\"color: #ff0000; text-decoration-color: #ff0000; font-style: italic\">False</span>, <span style=\"color: #008000; text-decoration-color: #008000\">'pooling_mode_mean_sqrt_len_tokens'</span>: <span style=\"color: #ff0000; text-decoration-color: #ff0000; font-style: italic\">False</span>, <span style=\"color: #008000; text-decoration-color: #008000\">'pooling_mode_weightedmean_tokens'</span>: \n",
       "<span style=\"color: #ff0000; text-decoration-color: #ff0000; font-style: italic\">False</span>, <span style=\"color: #008000; text-decoration-color: #008000\">'pooling_mode_lasttoken'</span>: <span style=\"color: #ff0000; text-decoration-color: #ff0000; font-style: italic\">False</span>, <span style=\"color: #008000; text-decoration-color: #008000\">'include_prompt'</span>: <span style=\"color: #00ff00; text-decoration-color: #00ff00; font-style: italic\">True</span><span style=\"font-weight: bold\">})</span>\n",
       "  <span style=\"font-weight: bold\">(</span><span style=\"color: #008080; text-decoration-color: #008080; font-weight: bold\">2</span><span style=\"font-weight: bold\">)</span>: <span style=\"color: #800080; text-decoration-color: #800080; font-weight: bold\">Normalize</span><span style=\"font-weight: bold\">()</span>\n",
       "<span style=\"font-weight: bold\">)</span>,\n",
       "    <span style=\"color: #808000; text-decoration-color: #808000\">model_name</span>=<span style=\"color: #008000; text-decoration-color: #008000\">'all-MiniLM-L6-v2'</span>,\n",
       "    <span style=\"color: #808000; text-decoration-color: #808000\">cache_folder</span>=<span style=\"color: #800080; text-decoration-color: #800080; font-style: italic\">None</span>,\n",
       "    <span style=\"color: #808000; text-decoration-color: #808000\">model_kwargs</span>=<span style=\"font-weight: bold\">{}</span>,\n",
       "    <span style=\"color: #808000; text-decoration-color: #808000\">encode_kwargs</span>=<span style=\"font-weight: bold\">{}</span>,\n",
       "    <span style=\"color: #808000; text-decoration-color: #808000\">multi_process</span>=<span style=\"color: #ff0000; text-decoration-color: #ff0000; font-style: italic\">False</span>,\n",
       "    <span style=\"color: #808000; text-decoration-color: #808000\">show_progress</span>=<span style=\"color: #ff0000; text-decoration-color: #ff0000; font-style: italic\">False</span>\n",
       "<span style=\"font-weight: bold\">)</span>\n",
       "</pre>\n"
      ],
      "text/plain": [
       "\u001b[1;35mHuggingFaceEmbeddings\u001b[0m\u001b[1m(\u001b[0m\n",
       "    \u001b[33mclient\u001b[0m=\u001b[1;35mSentenceTransformer\u001b[0m\u001b[1m(\u001b[0m\n",
       "  \u001b[1m(\u001b[0m\u001b[1;36m0\u001b[0m\u001b[1m)\u001b[0m: \u001b[1;35mTransformer\u001b[0m\u001b[1m(\u001b[0m\u001b[1m{\u001b[0m\u001b[32m'max_seq_length'\u001b[0m: \u001b[1;36m256\u001b[0m, \u001b[32m'do_lower_case'\u001b[0m: \u001b[3;91mFalse\u001b[0m\u001b[1m}\u001b[0m\u001b[1m)\u001b[0m with Transformer model: BertModel \n",
       "  \u001b[1m(\u001b[0m\u001b[1;36m1\u001b[0m\u001b[1m)\u001b[0m: \u001b[1;35mPooling\u001b[0m\u001b[1m(\u001b[0m\u001b[1m{\u001b[0m\u001b[32m'word_embedding_dimension'\u001b[0m: \u001b[1;36m384\u001b[0m, \u001b[32m'pooling_mode_cls_token'\u001b[0m: \u001b[3;91mFalse\u001b[0m, \u001b[32m'pooling_mode_mean_tokens'\u001b[0m: \u001b[3;92mTrue\u001b[0m,\n",
       "\u001b[32m'pooling_mode_max_tokens'\u001b[0m: \u001b[3;91mFalse\u001b[0m, \u001b[32m'pooling_mode_mean_sqrt_len_tokens'\u001b[0m: \u001b[3;91mFalse\u001b[0m, \u001b[32m'pooling_mode_weightedmean_tokens'\u001b[0m: \n",
       "\u001b[3;91mFalse\u001b[0m, \u001b[32m'pooling_mode_lasttoken'\u001b[0m: \u001b[3;91mFalse\u001b[0m, \u001b[32m'include_prompt'\u001b[0m: \u001b[3;92mTrue\u001b[0m\u001b[1m}\u001b[0m\u001b[1m)\u001b[0m\n",
       "  \u001b[1m(\u001b[0m\u001b[1;36m2\u001b[0m\u001b[1m)\u001b[0m: \u001b[1;35mNormalize\u001b[0m\u001b[1m(\u001b[0m\u001b[1m)\u001b[0m\n",
       "\u001b[1m)\u001b[0m,\n",
       "    \u001b[33mmodel_name\u001b[0m=\u001b[32m'all-MiniLM-L6-v2'\u001b[0m,\n",
       "    \u001b[33mcache_folder\u001b[0m=\u001b[3;35mNone\u001b[0m,\n",
       "    \u001b[33mmodel_kwargs\u001b[0m=\u001b[1m{\u001b[0m\u001b[1m}\u001b[0m,\n",
       "    \u001b[33mencode_kwargs\u001b[0m=\u001b[1m{\u001b[0m\u001b[1m}\u001b[0m,\n",
       "    \u001b[33mmulti_process\u001b[0m=\u001b[3;91mFalse\u001b[0m,\n",
       "    \u001b[33mshow_progress\u001b[0m=\u001b[3;91mFalse\u001b[0m\n",
       "\u001b[1m)\u001b[0m\n"
      ]
     },
     "metadata": {},
     "output_type": "display_data"
    }
   ],
   "source": [
    "from langchain_huggingface import HuggingFaceEmbeddings\n",
    "\n",
    "hf_embeddings = HuggingFaceEmbeddings(model_name=\"all-MiniLM-L6-v2\")\n",
    "print(hf_embeddings)"
   ]
  },
  {
   "cell_type": "code",
   "execution_count": 35,
   "metadata": {},
   "outputs": [
    {
     "data": {
      "text/html": [
       "<pre style=\"white-space:pre;overflow-x:auto;line-height:normal;font-family:Menlo,'DejaVu Sans Mono',consolas,'Courier New',monospace\"><span style=\"color: #008080; text-decoration-color: #008080; font-weight: bold\">384</span>\n",
       "</pre>\n"
      ],
      "text/plain": [
       "\u001b[1;36m384\u001b[0m\n"
      ]
     },
     "metadata": {},
     "output_type": "display_data"
    },
    {
     "data": {
      "text/html": [
       "<pre style=\"white-space:pre;overflow-x:auto;line-height:normal;font-family:Menlo,'DejaVu Sans Mono',consolas,'Courier New',monospace\"><span style=\"font-weight: bold\">[</span><span style=\"color: #008080; text-decoration-color: #008080; font-weight: bold\">-0.046046022325754166</span>, <span style=\"color: #008080; text-decoration-color: #008080; font-weight: bold\">-0.01512465812265873</span>, <span style=\"color: #008080; text-decoration-color: #008080; font-weight: bold\">0.038665786385536194</span>, <span style=\"color: #008080; text-decoration-color: #008080; font-weight: bold\">0.02681504562497139</span><span style=\"font-weight: bold\">]</span>\n",
       "</pre>\n"
      ],
      "text/plain": [
       "\u001b[1m[\u001b[0m\u001b[1;36m-0.046046022325754166\u001b[0m, \u001b[1;36m-0.01512465812265873\u001b[0m, \u001b[1;36m0.038665786385536194\u001b[0m, \u001b[1;36m0.02681504562497139\u001b[0m\u001b[1m]\u001b[0m\n"
      ]
     },
     "metadata": {},
     "output_type": "display_data"
    }
   ],
   "source": [
    "# Converting a sentence to embeddings\n",
    "hf_vector = hf_embeddings.embed_query(\"I'm using Huggingface embeddings\")\n",
    "print(len(hf_vector))\n",
    "print(hf_vector[:4])"
   ]
  },
  {
   "cell_type": "code",
   "execution_count": 41,
   "metadata": {},
   "outputs": [
    {
     "data": {
      "text/html": [
       "<pre style=\"white-space:pre;overflow-x:auto;line-height:normal;font-family:Menlo,'DejaVu Sans Mono',consolas,'Courier New',monospace\">First sentence length: <span style=\"color: #008080; text-decoration-color: #008080; font-weight: bold\">384</span></pre>\n"
      ],
      "text/plain": [
       "First sentence length: \u001b[1;36m384\u001b[0m"
      ]
     },
     "metadata": {},
     "output_type": "display_data"
    },
    {
     "data": {
      "text/html": [
       "<pre style=\"white-space:pre;overflow-x:auto;line-height:normal;font-family:Menlo,'DejaVu Sans Mono',consolas,'Courier New',monospace\">Second sentence length: <span style=\"color: #008080; text-decoration-color: #008080; font-weight: bold\">384</span>\n",
       "</pre>\n"
      ],
      "text/plain": [
       "Second sentence length: \u001b[1;36m384\u001b[0m\n"
      ]
     },
     "metadata": {},
     "output_type": "display_data"
    },
    {
     "data": {
      "text/html": [
       "<pre style=\"white-space:pre;overflow-x:auto;line-height:normal;font-family:Menlo,'DejaVu Sans Mono',consolas,'Courier New',monospace\"><span style=\"font-weight: bold\">[</span><span style=\"color: #008080; text-decoration-color: #008080; font-weight: bold\">0.021637607365846634</span>, <span style=\"color: #008080; text-decoration-color: #008080; font-weight: bold\">0.002449871739372611</span>, <span style=\"color: #008080; text-decoration-color: #008080; font-weight: bold\">0.06626065820455551</span>, <span style=\"color: #008080; text-decoration-color: #008080; font-weight: bold\">0.012161540798842907</span>, <span style=\"color: #008080; text-decoration-color: #008080; font-weight: bold\">0.000327975518302992</span><span style=\"font-weight: bold\">]</span>\n",
       "</pre>\n"
      ],
      "text/plain": [
       "\u001b[1m[\u001b[0m\u001b[1;36m0.021637607365846634\u001b[0m, \u001b[1;36m0.002449871739372611\u001b[0m, \u001b[1;36m0.06626065820455551\u001b[0m, \u001b[1;36m0.012161540798842907\u001b[0m, \u001b[1;36m0.000327975518302992\u001b[0m\u001b[1m]\u001b[0m\n"
      ]
     },
     "metadata": {},
     "output_type": "display_data"
    }
   ],
   "source": [
    "# converting documents to embeddings\n",
    "hf_docs_vector = hf_embeddings.embed_documents([\n",
    "    \"Hello, how are you\",\n",
    "    \"I'm well. What about you?\"\n",
    "])\n",
    "\n",
    "print(\"First sentence length:\", len(hf_docs_vector[0]))\n",
    "print(\"Second sentence length:\", len(hf_docs_vector[1]))\n",
    "\n",
    "print(hf_docs_vector[1][:5]) # second sentence embeddings"
   ]
  }
 ],
 "metadata": {
  "kernelspec": {
   "display_name": "Python 3",
   "language": "python",
   "name": "python3"
  },
  "language_info": {
   "codemirror_mode": {
    "name": "ipython",
    "version": 3
   },
   "file_extension": ".py",
   "mimetype": "text/x-python",
   "name": "python",
   "nbconvert_exporter": "python",
   "pygments_lexer": "ipython3",
   "version": "3.11.0"
  }
 },
 "nbformat": 4,
 "nbformat_minor": 2
}
