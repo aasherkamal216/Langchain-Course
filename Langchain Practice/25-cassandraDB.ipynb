{
 "cells": [
  {
   "cell_type": "code",
   "execution_count": 61,
   "metadata": {},
   "outputs": [
    {
     "data": {
      "text/plain": [
       "True"
      ]
     },
     "execution_count": 61,
     "metadata": {},
     "output_type": "execute_result"
    }
   ],
   "source": [
    "from langchain.vectorstores.cassandra import Cassandra\n",
    "from langchain.indexes.vectorstore import VectorStoreIndexWrapper\n",
    "from langchain_google_genai import ChatGoogleGenerativeAI\n",
    "from langchain_cohere import CohereEmbeddings\n",
    "import cassio\n",
    "import os, dotenv\n",
    "from langchain_community.document_loaders import PyPDFLoader, PyMuPDFLoader\n",
    "from langchain_text_splitters import RecursiveCharacterTextSplitter\n",
    "dotenv.load_dotenv()"
   ]
  },
  {
   "cell_type": "code",
   "execution_count": 34,
   "metadata": {},
   "outputs": [
    {
     "data": {
      "text/plain": [
       "41"
      ]
     },
     "execution_count": 34,
     "metadata": {},
     "output_type": "execute_result"
    }
   ],
   "source": [
    "pdf_doc = PyPDFLoader(\"National AI Policy Consultation Draft.pdf\").load()\n",
    "len(pdf_doc)"
   ]
  },
  {
   "cell_type": "code",
   "execution_count": 36,
   "metadata": {},
   "outputs": [
    {
     "data": {
      "text/html": [
       "<pre style=\"white-space:pre;overflow-x:auto;line-height:normal;font-family:Menlo,'DejaVu Sans Mono',consolas,'Courier New',monospace\"><span style=\"color: #800080; text-decoration-color: #800080; font-weight: bold\">Document</span><span style=\"font-weight: bold\">(</span>\n",
       "    <span style=\"color: #808000; text-decoration-color: #808000\">metadata</span>=<span style=\"font-weight: bold\">{</span><span style=\"color: #008000; text-decoration-color: #008000\">'source'</span>: <span style=\"color: #008000; text-decoration-color: #008000\">'National AI Policy Consultation Draft.pdf'</span>, <span style=\"color: #008000; text-decoration-color: #008000\">'page'</span>: <span style=\"color: #008080; text-decoration-color: #008080; font-weight: bold\">4</span><span style=\"font-weight: bold\">}</span>,\n",
       "    <span style=\"color: #808000; text-decoration-color: #808000\">page_content</span>=<span style=\"color: #008000; text-decoration-color: #008000\">'5 \\n Foreword  \\nThrough its continued efforts toward  the early realization of the Digital </span>\n",
       "<span style=\"color: #008000; text-decoration-color: #008000\">Pakistan vision of the Government \\nof Pakistan, the Ministry of IT &amp; Telecom is committed to providing  its people</span>\n",
       "<span style=\"color: #008000; text-decoration-color: #008000\">with timely and equal access \\nto opportunities by stimulating a culture of innovation through an overarching de </span>\n",
       "<span style=\"color: #008000; text-decoration-color: #008000\">velopmental agenda \\norchestrated to embrace cutting -edge technologies such as Artificial Intelligence efficiently</span>\n",
       "<span style=\"color: #008000; text-decoration-color: #008000\">and \\nresponsibly.   \\nIn this regard, the  Artificial Intelligence  (AI) Policy  is a pivotal milestone for  </span>\n",
       "<span style=\"color: #008000; text-decoration-color: #008000\">transforming Pakistan into a  \\nknowledge -based economy as it spells out a national strategy  to establish an </span>\n",
       "<span style=\"color: #008000; text-decoration-color: #008000\">ecosystem necessary for AI \\nadoption by harnessing an agile framework for addressing different aspects of unique </span>\n",
       "<span style=\"color: #008000; text-decoration-color: #008000\">user journeys \\nencompassing different market horizontals and industry verticals by ensuring responsible use of AI.</span>\n",
       "<span style=\"color: #008000; text-decoration-color: #008000\">\\nFurthermore, the policy aims to go beyond the meagre approach of adopting technology to fundamentally'</span>\n",
       "<span style=\"font-weight: bold\">)</span>\n",
       "</pre>\n"
      ],
      "text/plain": [
       "\u001b[1;35mDocument\u001b[0m\u001b[1m(\u001b[0m\n",
       "    \u001b[33mmetadata\u001b[0m=\u001b[1m{\u001b[0m\u001b[32m'source'\u001b[0m: \u001b[32m'National AI Policy Consultation Draft.pdf'\u001b[0m, \u001b[32m'page'\u001b[0m: \u001b[1;36m4\u001b[0m\u001b[1m}\u001b[0m,\n",
       "    \u001b[33mpage_content\u001b[0m=\u001b[32m'5 \\n Foreword  \\nThrough its continued efforts toward  the early realization of the Digital \u001b[0m\n",
       "\u001b[32mPakistan vision of the Government \\nof Pakistan, the Ministry of IT & Telecom is committed to providing  its people\u001b[0m\n",
       "\u001b[32mwith timely and equal access \\nto opportunities by stimulating a culture of innovation through an overarching de \u001b[0m\n",
       "\u001b[32mvelopmental agenda \\norchestrated to embrace cutting -edge technologies such as Artificial Intelligence efficiently\u001b[0m\n",
       "\u001b[32mand \\nresponsibly.   \\nIn this regard, the  Artificial Intelligence  \u001b[0m\u001b[32m(\u001b[0m\u001b[32mAI\u001b[0m\u001b[32m)\u001b[0m\u001b[32m Policy  is a pivotal milestone for  \u001b[0m\n",
       "\u001b[32mtransforming Pakistan into a  \\nknowledge -based economy as it spells out a national strategy  to establish an \u001b[0m\n",
       "\u001b[32mecosystem necessary for AI \\nadoption by harnessing an agile framework for addressing different aspects of unique \u001b[0m\n",
       "\u001b[32muser journeys \\nencompassing different market horizontals and industry verticals by ensuring responsible use of AI.\u001b[0m\n",
       "\u001b[32m\\nFurthermore, the policy aims to go beyond the meagre approach of adopting technology to fundamentally'\u001b[0m\n",
       "\u001b[1m)\u001b[0m\n"
      ]
     },
     "metadata": {},
     "output_type": "display_data"
    },
    {
     "data": {
      "text/plain": [
       "157"
      ]
     },
     "execution_count": 36,
     "metadata": {},
     "output_type": "execute_result"
    }
   ],
   "source": [
    "doc_chunks = RecursiveCharacterTextSplitter(chunk_size=1000, chunk_overlap=200).split_documents(pdf_doc)\n",
    "print(doc_chunks[10])\n",
    "len(doc_chunks)"
   ]
  },
  {
   "cell_type": "code",
   "execution_count": 66,
   "metadata": {},
   "outputs": [],
   "source": [
    "ASTRA_DB_APPLICATION_TOKEN = os.getenv('ASTRA_DB_APPLICATION_TOKEN')\n",
    "ASTRA_DB_ID = os.getenv('ASTRA_DB_ID')"
   ]
  },
  {
   "cell_type": "code",
   "execution_count": 71,
   "metadata": {},
   "outputs": [],
   "source": [
    "cassio.init(\n",
    "    database_id=ASTRA_DB_ID,\n",
    "    token=ASTRA_DB_APPLICATION_TOKEN,\n",
    ")"
   ]
  },
  {
   "cell_type": "code",
   "execution_count": 72,
   "metadata": {},
   "outputs": [],
   "source": [
    "import os\n",
    "os.environ[\"GOOGLE_API_KEY\"] = os.getenv('GOOGLE_API_KEY')\n",
    "os.environ[\"COHERE_API_KEY\"] = os.getenv('COHERE_API_KEY')\n",
    "\n",
    "## LLM\n",
    "llm = ChatGoogleGenerativeAI(model=\"gemini-1.5-flash\")\n",
    "## Embeddings\n",
    "embeddings = CohereEmbeddings()"
   ]
  },
  {
   "cell_type": "code",
   "execution_count": 73,
   "metadata": {},
   "outputs": [],
   "source": [
    "astra_vector_store = Cassandra(embedding=embeddings,\n",
    "                               table_name=\"astra_rag\",\n",
    "                               )"
   ]
  },
  {
   "cell_type": "code",
   "execution_count": 74,
   "metadata": {},
   "outputs": [
    {
     "data": {
      "text/plain": [
       "['d4c8b7fa79d3407fb87dcfa6c788458b',\n",
       " '0f15e3bfee304bc6afd5f541358c5145',\n",
       " '9e6a43b00188476aadd1732dd784ce9d',\n",
       " 'c75b94359d4b45768ab8bcf15999012b',\n",
       " '97baa03275864b7c8be4c2fe1fda96ee',\n",
       " 'aea559d186ba4b37bf29fe1d1e5ef60f',\n",
       " '9f0d638dec9d4c8496590813e2c9b35e',\n",
       " '541ed555469941c298e35be18fe0f962',\n",
       " '3a24241bd4564587ba7c6b119291547e',\n",
       " 'c520fc57cca34356bad52fb4a5cb8a72',\n",
       " 'e636ee1030204f199d9ae536055b8000',\n",
       " '5f779b2acc2447289c063be627efafab',\n",
       " 'a2aeb64fc7df4506b4f33808bf90e018',\n",
       " '19f5661d3aed49d8b4740cb1bc72c8a3',\n",
       " '43ba4fc8725f4f83a0472033ade5a2cc',\n",
       " '2f3b144526ad4ce4b4498e35486232e0',\n",
       " '655d22a87c8144f996181c69c003cff4',\n",
       " 'e2d0a6b580e34795ad19dc3e1622312d',\n",
       " '19cfbf0cd27046cbb6ac1b3b954a7027',\n",
       " 'd2163bfb13904f80ab6a98a6b6d8cf0b',\n",
       " 'db3430b567bf44da9e93be07cfcbb6fc',\n",
       " 'ecc9b4a6cd87456585795170210ef623',\n",
       " '8779effd7f484f1faff536636b6ca35c',\n",
       " '3ba074bc57e84cc1b6d0b0e675944cee',\n",
       " '0fed01bb711c472a9bdd40b795a3df35',\n",
       " 'f666674bfd1a4877812768efea8baeae',\n",
       " '1cdaadb1be244a5aa749c55f5d393047',\n",
       " 'aba10e9d4aac410a9b0cae4fc66f2a11',\n",
       " 'a72c33e01c1d4c2dbf062fd8aa4db578',\n",
       " 'cceb146ec909451d9cbb0c5a6d6bee6f',\n",
       " '24f199cec3bb4b16a3c5850969547217',\n",
       " '9684a6b4916748c4bb09c7c16faa9a38',\n",
       " 'bfcad04fc0d44f3b84e6b9610bac6353',\n",
       " '1e4330fac1184f95a4a5f884299404cd',\n",
       " '27392b90bb124508998e890215fbf912',\n",
       " '8251130038d9489f8df5d7374a71cb45',\n",
       " 'a285fb108b654a5896a0a849307d6311',\n",
       " '0d9f8bdb78fe4032a28ce6c4b0306289',\n",
       " '9c5b6f13d8b248cbae3fa41fbd2cc721',\n",
       " '78f4573df1034b47b19a626a461581bc',\n",
       " 'e0faa7a2101b47789a43ca63127fc8f9',\n",
       " '552954b7e56a4390b75c779b7a2dae65',\n",
       " '799efb247d5a4a0f8cc9057073189c26',\n",
       " 'eada697108584affbcd0a0b837253def',\n",
       " '8ad84f6a8bb24aa68633fbaf1a6565de',\n",
       " '592ed9aad3c844b99c6ec29ebd86cb7f',\n",
       " '10f1880b77d04d6d9e3a216e46ca5b6b',\n",
       " '050d8a36726e453ba004242f4b053137',\n",
       " '269280a13a08416b9f2757ebe3c3bf11',\n",
       " '3ed4b253d06b4fb19fb30e8ee6735637',\n",
       " 'af6fe54075a64624aa67e05e605dfe9e',\n",
       " 'b7885950c7be4efeaf2b470e104537b3',\n",
       " 'd9dafae6ba1d4fdcb3f8e5796b6e9929',\n",
       " '44e1cba3a35a43b99825205b3a62d3fa',\n",
       " '9b5abbfe04c7466880947f19dd92659d',\n",
       " '88dbf2122cb84913b82fed63cbb61266',\n",
       " '661c525fd56f45ceb79fbcb4915edce3',\n",
       " '99eefb1365414e60896820b2611e11ce',\n",
       " '9fae725b333047d2ae981a680ff6c7a0',\n",
       " '7df9b51d9c9f42f5906b89a8ed1c554a',\n",
       " '5d3ed365f90e40f3a8720100a4dc4b0a',\n",
       " '1b512170478546f68c2c9922ee4994f1',\n",
       " '0cc74757bd8d40ecbf0e6e53c1debab9',\n",
       " '2507d475a5cd42d38938bf25e1c591d7',\n",
       " 'f5604f0d695047f8be117c0cb575f18b',\n",
       " '9e4e50c7f3de49f1917b83ad754d4851',\n",
       " '84b7c2fd0cb1475a9b9693279b18774c',\n",
       " '09b4e6c3069f47c082a9df197198e9df',\n",
       " '911340d340f14f9ea8263b66f563fa93',\n",
       " '09fe483100034cba953391e367527293',\n",
       " 'e5432a84ca0348f295afe9f023183084',\n",
       " 'c36c13b6f09849bbb8d24ebab483ac6e',\n",
       " 'd2d3bc56f1004c998964201abc726bf4',\n",
       " 'f2664805427e4d4b87ee537ed7e86f24',\n",
       " '0218a7703e55467f8dace02275c037c4',\n",
       " '9f3b7b8b607e403cbb1351093f5e426e',\n",
       " 'b3a278e14e5445b8bf71013aef23f3e7',\n",
       " 'fc5fb440bdf1466bbb2b182054089cb1',\n",
       " '9dcb102988874188a6f747f58c3b4872',\n",
       " 'ee2301e4c42d4a67bf048c39f2d4a15b',\n",
       " '2f7c64c8b9484fd19c779f480be6c264',\n",
       " 'a1c94c5e28d7476f83cf555ecdfcc803',\n",
       " '9962f8566ee4426aa1ad61f02cf62e2e',\n",
       " 'dbe90ea42fee4ab5b9d6c2ad665ce39b',\n",
       " 'dd10501314584f2db2bc7be385664539',\n",
       " '8abb9e868b2c4b48a0b4fd31e5e3993e',\n",
       " '22f5c435c9a04db5800a3f88f6f97ceb',\n",
       " 'e763ae87d15f41179abb75f2bf52bae5',\n",
       " '6ccd1d85bf5f4abfa3e757de4f3d05fe',\n",
       " 'd25907d98cf74919924903249835c4e4',\n",
       " '75a951296893496f88675682f5a71012',\n",
       " '55f2c5795d874d28884123bd992a14f4',\n",
       " '49ff63d638604551b0a63cdde8cb7439',\n",
       " '5402e5fb9887444095e9f8af5b646e8e',\n",
       " '2fb4294e76e84206a6732952550622a2',\n",
       " 'b2fd540be7da4b7e80e6c72a838381ab',\n",
       " '478bc463b825436ab0b35bd3507c2403',\n",
       " '6bda043acf94450f835cb6ba3535e441',\n",
       " 'e3c718eab2eb4aa2b362a32f4619e103',\n",
       " '294439d9bb17466bb8c4cd7b24053740',\n",
       " 'a4f6b48fb1f247c19d8353c7f079dbb7',\n",
       " 'b575ce791bcc4db1abb621b14228def8',\n",
       " 'e2fbcdaf2a70494793e18231b6a074d1',\n",
       " 'e9d3cb8f706140ca97f86ecdadf30c14',\n",
       " '3b5e96aec3f04f17a8afb75021ee3bf3',\n",
       " '9fdabb39c36d4d58b403eaee373eb4e8',\n",
       " '738ba48875b84c80ae58e76855893a20',\n",
       " 'f1e397aa4f654d2a8a52ad37ce849f8f',\n",
       " '4430e21b61644c158d126901d8b6a2c1',\n",
       " '661d216d6f9b4a9fb4cf70a0960c1bda',\n",
       " '35e30c5fb84e42bb8c3a1280f4dba36f',\n",
       " '639559c893e346e982f94ba8cd795637',\n",
       " 'fc6b219ebaed48498f31e0a841b6f16a',\n",
       " '2a877a2966e64f3998a8cb9841ec99a8',\n",
       " '3b24a013514d415c843c3dd15594fc0e',\n",
       " 'ebf5f0ef2f2140c789f45f5a8f8cb90a',\n",
       " 'f3d8a73cf16f487dbf8b164545811010',\n",
       " '26f73fd777fd43d4a336f56cd7886395',\n",
       " 'afaf0c6b15134164ae6fd6347934e838',\n",
       " '071c1e22b9404148b5020800790355fb',\n",
       " 'a94a89413e23413db56a47661204c738',\n",
       " 'a72348d14e5a4d7d9d3b4428a2c352aa',\n",
       " '60c097eff50b4645b20c30e43dfbda15',\n",
       " '3896ebd2366b4033bd661e12e1c5b280',\n",
       " '88c5e7cf54fa4d98b8d8fe515ddb2cb1',\n",
       " '0244058e64b14c27b50124f587717e46',\n",
       " '90bf6b8f66f54ae3a35fd07d74f3a3d1',\n",
       " '17fb552e2f4f42469f9d81a8ee44ef27',\n",
       " 'fb2491410afa4db7b069bd99b2930204',\n",
       " '6bbd25a9df2742248b757e6b07def70b',\n",
       " '8b1cebfd5ad04ad5bc0e8a774b0d2f8b',\n",
       " 'aac5eed7fd834f2489f587f6b1b14ac1',\n",
       " '09de1c3ce7804c399a8ec03d0d620cf8',\n",
       " '06cd9b6626784c42bdbb5bd2d2958604',\n",
       " '986be2c0861d476db5ca36107f548a1c',\n",
       " '972851a5c7824e2482cd2edfaa95c599',\n",
       " '937a9a1cb2e14eaf874e72aceff1762f',\n",
       " 'c06b41581e0f4ee49a1f6fdf22c710d5',\n",
       " '6c7c7da80d404eb4b6756aeda33f1480',\n",
       " 'cb184ed9d54f4f888a2286f7fb121917',\n",
       " '40eb4ae7ef7443dabcb0fc9f99e6788c',\n",
       " 'cecff22de81b43299c68f2c4de72fa12',\n",
       " 'e567d8c89a644d2bbe814581cf44081f',\n",
       " '4ac2ab9adf5f455593ae9144ce785dcb',\n",
       " '0e2a94c762604878b307deaea4a12f98',\n",
       " '85743d87fa064f27bd19d857abb6b5e8',\n",
       " '48565de72ef746cfa427966caaf96096',\n",
       " '46215a4c42364043934005230a1aaf3c',\n",
       " 'd644e9bd262d4f92a56b8f26d93a0e04',\n",
       " '2339def394ff41758f53c789c5fb4823',\n",
       " '5db3c569b74441159b13e7f7709284d6',\n",
       " '1c47c99e46d148028c959701326e7e79',\n",
       " 'e7e2b7124b8d43c1939b73d7f630ecbc',\n",
       " 'eb4544326a3242349efe91b751f23968',\n",
       " 'aaaaf14062944bfda591ea16ac9d9846',\n",
       " '61d5dd7fd4274bcc97fdfbfa2b5240bc',\n",
       " '8637d0869c224ed9be03473211fd321d']"
      ]
     },
     "execution_count": 74,
     "metadata": {},
     "output_type": "execute_result"
    }
   ],
   "source": [
    "astra_vector_store.add_documents(doc_chunks)"
   ]
  },
  {
   "cell_type": "code",
   "execution_count": 75,
   "metadata": {},
   "outputs": [],
   "source": [
    "astra_vector_index = VectorStoreIndexWrapper(vectorstore=astra_vector_store)"
   ]
  },
  {
   "cell_type": "code",
   "execution_count": 76,
   "metadata": {},
   "outputs": [
    {
     "data": {
      "text/html": [
       "<pre style=\"white-space:pre;overflow-x:auto;line-height:normal;font-family:Menlo,'DejaVu Sans Mono',consolas,'Courier New',monospace\">The provided text is a draft of Pakistan's National Artificial Intelligence Policy. It outlines the government's \n",
       "plan to stimulate growth in AI across the country. \n",
       "\n",
       "The policy focuses on several key areas:\n",
       "\n",
       "* **AI Market Enablement:** This includes establishing a National AI Fund <span style=\"font-weight: bold\">(</span>NAIF<span style=\"font-weight: bold\">)</span> to support research and \n",
       "development in AI and related technologies.\n",
       "* **Center of Excellence in AI &amp; Allied Technologies:**  This aims to create a hub for expertise and innovation in \n",
       "AI.\n",
       "* **Catalyzing Social Development through AI:**  This focuses on using AI to address social challenges and improve \n",
       "the lives of citizens.\n",
       "* **Data and Computational Infrastructure:** This emphasizes the need for robust data infrastructure to support AI \n",
       "development and deployment.\n",
       "\n",
       "The policy aims to empower Pakistan to leverage AI for economic growth, social progress, and national development.\n",
       "\n",
       "</pre>\n"
      ],
      "text/plain": [
       "The provided text is a draft of Pakistan's National Artificial Intelligence Policy. It outlines the government's \n",
       "plan to stimulate growth in AI across the country. \n",
       "\n",
       "The policy focuses on several key areas:\n",
       "\n",
       "* **AI Market Enablement:** This includes establishing a National AI Fund \u001b[1m(\u001b[0mNAIF\u001b[1m)\u001b[0m to support research and \n",
       "development in AI and related technologies.\n",
       "* **Center of Excellence in AI & Allied Technologies:**  This aims to create a hub for expertise and innovation in \n",
       "AI.\n",
       "* **Catalyzing Social Development through AI:**  This focuses on using AI to address social challenges and improve \n",
       "the lives of citizens.\n",
       "* **Data and Computational Infrastructure:** This emphasizes the need for robust data infrastructure to support AI \n",
       "development and deployment.\n",
       "\n",
       "The policy aims to empower Pakistan to leverage AI for economic growth, social progress, and national development.\n",
       "\n"
      ]
     },
     "metadata": {},
     "output_type": "display_data"
    }
   ],
   "source": [
    "from rich import print\n",
    "\n",
    "response = astra_vector_index.query(\"What is National Artificail Intelligence Policy?\", llm=llm)\n",
    "print(response)"
   ]
  },
  {
   "cell_type": "code",
   "execution_count": 77,
   "metadata": {},
   "outputs": [
    {
     "data": {
      "text/html": [
       "<pre style=\"white-space:pre;overflow-x:auto;line-height:normal;font-family:Menlo,'DejaVu Sans Mono',consolas,'Courier New',monospace\"><span style=\"font-weight: bold\">[</span>\n",
       "    <span style=\"font-weight: bold\">(</span>\n",
       "        <span style=\"color: #800080; text-decoration-color: #800080; font-weight: bold\">Document</span><span style=\"font-weight: bold\">(</span>\n",
       "            <span style=\"color: #808000; text-decoration-color: #808000\">metadata</span>=<span style=\"font-weight: bold\">{</span><span style=\"color: #008000; text-decoration-color: #008000\">'page'</span>: <span style=\"color: #008000; text-decoration-color: #008000\">'15.0'</span>, <span style=\"color: #008000; text-decoration-color: #008000\">'source'</span>: <span style=\"color: #008000; text-decoration-color: #008000\">'National AI Policy Consultation Draft.pdf'</span><span style=\"font-weight: bold\">}</span>,\n",
       "            <span style=\"color: #808000; text-decoration-color: #808000\">page_content</span>=<span style=\"color: #008000; text-decoration-color: #008000\">'to establish a National AI Fund with following objectives . \\nI. In accordance with the </span>\n",
       "<span style=\"color: #008000; text-decoration-color: #008000\">stipulations of clauses 33D (II) &amp; (III) of the Telecommunication Re -\\norganization Act 1996 (amended 2006),  the </span>\n",
       "<span style=\"color: #008000; text-decoration-color: #008000\">Ministry of IT &amp; Telecom, while exercising its right to \\nissue policy directives, shall direct the Research &amp; </span>\n",
       "<span style=\"color: #008000; text-decoration-color: #008000\">Development Fund (Ignite – Technology Fund) \\nto allocate a part (not less than 30%) of its funds to NAIF on a </span>\n",
       "<span style=\"color: #008000; text-decoration-color: #008000\">perpetual basis for the research and \\ndevelopment of AI and allied technologies.  \\nII. The Ministry of IT &amp; </span>\n",
       "<span style=\"color: #008000; text-decoration-color: #008000\">Telecom shall notify the establish ment  of an autonomous high -tech National \\nAI Fund (NAIF) organization within </span>\n",
       "<span style=\"color: #008000; text-decoration-color: #008000\">six (6) months from the promulgation of this policy.  \\nIII. The NAIF shall undertake  all the responsibilities and</span>\n",
       "<span style=\"color: #008000; text-decoration-color: #008000\">implement guidelines as stipulated in this \\npolicy or as directed by the Federal Government of Pakistan via the </span>\n",
       "<span style=\"color: #008000; text-decoration-color: #008000\">Ministry of IT &amp; Telecom from \\ntime to time.'</span>\n",
       "        <span style=\"font-weight: bold\">)</span>,\n",
       "        <span style=\"color: #008080; text-decoration-color: #008080; font-weight: bold\">0.9070492140470734</span>\n",
       "    <span style=\"font-weight: bold\">)</span>,\n",
       "    <span style=\"font-weight: bold\">(</span>\n",
       "        <span style=\"color: #800080; text-decoration-color: #800080; font-weight: bold\">Document</span><span style=\"font-weight: bold\">(</span>\n",
       "            <span style=\"color: #808000; text-decoration-color: #808000\">metadata</span>=<span style=\"font-weight: bold\">{</span><span style=\"color: #008000; text-decoration-color: #008000\">'page'</span>: <span style=\"color: #008000; text-decoration-color: #008000\">'11.0'</span>, <span style=\"color: #008000; text-decoration-color: #008000\">'source'</span>: <span style=\"color: #008000; text-decoration-color: #008000\">'National AI Policy Consultation Draft.pdf'</span><span style=\"font-weight: bold\">}</span>,\n",
       "            <span style=\"color: #808000; text-decoration-color: #808000\">page_content</span>=<span style=\"color: #008000; text-decoration-color: #008000\">'advanced technologies in AI and Data Science \\nwhile incorporating PWDs and marginalized </span>\n",
       "<span style=\"color: #008000; text-decoration-color: #008000\">\\nWomen through inclusion in Digis kills.pk \\nProgram and other such initiatives in the \\nprovinces.  By 2024  \\n2.</span>\n",
       "<span style=\"color: #008000; text-decoration-color: #008000\">AI Market \\nEnablement  Target -5 National AI Fund  The Ignite Technology Fund is mandated to \\nbroadly support R&amp;D</span>\n",
       "<span style=\"color: #008000; text-decoration-color: #008000\">Initiatives, \\nEntrepreneurship, and Skill Development in \\nICTs.  \\nThere is no special provision for Hi -Tech, </span>\n",
       "<span style=\"color: #008000; text-decoration-color: #008000\">\\nespecially AI and allied Technologies, at \\npresent.  To establish National AI Fund for supporting \\nHi-Tech </span>\n",
       "<span style=\"color: #008000; text-decoration-color: #008000\">initiatives in AI and Allied \\nTechnologies nationwide as a spin -off of \\nIgnite Technology Fund.  \\n By 2023  \\n </span>\n",
       "<span style=\"color: #008000; text-decoration-color: #008000\">\\nTarget -6 Center of \\nExcellence in AI &amp; \\nAllied Technologies  National Centers for AI are playing an </span>\n",
       "<span style=\"color: #008000; text-decoration-color: #008000\">\\nessential role in applied R&amp;D in AI at leading \\nacademic institutions for higher education \\nin Karachi, Lahore,</span>\n",
       "<span style=\"color: #008000; text-decoration-color: #008000\">and Islamabad.  \\nSino -Pak Center for Artificial Int elligence at \\nPAF-IAST, Haripur, is also making tangible'</span>\n",
       "        <span style=\"font-weight: bold\">)</span>,\n",
       "        <span style=\"color: #008080; text-decoration-color: #008080; font-weight: bold\">0.8685352441807275</span>\n",
       "    <span style=\"font-weight: bold\">)</span>,\n",
       "    <span style=\"font-weight: bold\">(</span>\n",
       "        <span style=\"color: #800080; text-decoration-color: #800080; font-weight: bold\">Document</span><span style=\"font-weight: bold\">(</span>\n",
       "            <span style=\"color: #808000; text-decoration-color: #808000\">metadata</span>=<span style=\"font-weight: bold\">{</span><span style=\"color: #008000; text-decoration-color: #008000\">'page'</span>: <span style=\"color: #008000; text-decoration-color: #008000\">'6.0'</span>, <span style=\"color: #008000; text-decoration-color: #008000\">'source'</span>: <span style=\"color: #008000; text-decoration-color: #008000\">'National AI Policy Consultation Draft.pdf'</span><span style=\"font-weight: bold\">}</span>,\n",
       "            <span style=\"color: #808000; text-decoration-color: #808000\">page_content</span>=<span style=\"color: #008000; text-decoration-color: #008000\">'register  notable efforts  through public/private interventions as follows : \\n• </span>\n",
       "<span style=\"color: #008000; text-decoration-color: #008000\">Presidential Initiative for Artificial Intelligence &amp; Computing ( PIAIC ) \\n• Center for Artificial Intelligence </span>\n",
       "<span style=\"color: #008000; text-decoration-color: #008000\">and Computing ( CENTAIC)  \\n• National Center of Artificial Intelligence (NCAI)   \\n• Sino -Pak Center for </span>\n",
       "<span style=\"color: #008000; text-decoration-color: #008000\">Artificial Intelligence  (SPCAI)  \\nThese  timely  initiatives have performed well in their domains and need </span>\n",
       "<span style=\"color: #008000; text-decoration-color: #008000\">continuity to achieve long -term \\ntargets. To achieve  the AI-accelerated  socio -economic development urgently </span>\n",
       "<span style=\"color: #008000; text-decoration-color: #008000\">required by Pakistan and its \\nactual impact on the GDP of the country , a national strategy for AI adoption is </span>\n",
       "<span style=\"color: #008000; text-decoration-color: #008000\">critical . The AI policy provides \\na holistic structure , by the societal challenges regarding AI adoption can be </span>\n",
       "<span style=\"color: #008000; text-decoration-color: #008000\">addressed by establishing the \\nnecessary  ecosystem with specialized initiatives  and organizational </span>\n",
       "<span style=\"color: #008000; text-decoration-color: #008000\">responsibilities. The policy proposes \\nthe National AI fund as a perpetual and central fund to support the </span>\n",
       "<span style=\"color: #008000; text-decoration-color: #008000\">proposed interventions .'</span>\n",
       "        <span style=\"font-weight: bold\">)</span>,\n",
       "        <span style=\"color: #008080; text-decoration-color: #008080; font-weight: bold\">0.8550270507206236</span>\n",
       "    <span style=\"font-weight: bold\">)</span>\n",
       "<span style=\"font-weight: bold\">]</span>\n",
       "</pre>\n"
      ],
      "text/plain": [
       "\u001b[1m[\u001b[0m\n",
       "    \u001b[1m(\u001b[0m\n",
       "        \u001b[1;35mDocument\u001b[0m\u001b[1m(\u001b[0m\n",
       "            \u001b[33mmetadata\u001b[0m=\u001b[1m{\u001b[0m\u001b[32m'page'\u001b[0m: \u001b[32m'15.0'\u001b[0m, \u001b[32m'source'\u001b[0m: \u001b[32m'National AI Policy Consultation Draft.pdf'\u001b[0m\u001b[1m}\u001b[0m,\n",
       "            \u001b[33mpage_content\u001b[0m=\u001b[32m'to establish a National AI Fund with following objectives . \\nI. In accordance with the \u001b[0m\n",
       "\u001b[32mstipulations of clauses 33D \u001b[0m\u001b[32m(\u001b[0m\u001b[32mII\u001b[0m\u001b[32m)\u001b[0m\u001b[32m & \u001b[0m\u001b[32m(\u001b[0m\u001b[32mIII\u001b[0m\u001b[32m)\u001b[0m\u001b[32m of the Telecommunication Re -\\norganization Act 1996 \u001b[0m\u001b[32m(\u001b[0m\u001b[32mamended 2006\u001b[0m\u001b[32m)\u001b[0m\u001b[32m,  the \u001b[0m\n",
       "\u001b[32mMinistry of IT & Telecom, while exercising its right to \\nissue policy directives, shall direct the Research & \u001b[0m\n",
       "\u001b[32mDevelopment Fund \u001b[0m\u001b[32m(\u001b[0m\u001b[32mIgnite – Technology Fund\u001b[0m\u001b[32m)\u001b[0m\u001b[32m \\nto allocate a part \u001b[0m\u001b[32m(\u001b[0m\u001b[32mnot less than 30%\u001b[0m\u001b[32m)\u001b[0m\u001b[32m of its funds to NAIF on a \u001b[0m\n",
       "\u001b[32mperpetual basis for the research and \\ndevelopment of AI and allied technologies.  \\nII. The Ministry of IT & \u001b[0m\n",
       "\u001b[32mTelecom shall notify the establish ment  of an autonomous high -tech National \\nAI Fund \u001b[0m\u001b[32m(\u001b[0m\u001b[32mNAIF\u001b[0m\u001b[32m)\u001b[0m\u001b[32m organization within \u001b[0m\n",
       "\u001b[32msix \u001b[0m\u001b[32m(\u001b[0m\u001b[32m6\u001b[0m\u001b[32m)\u001b[0m\u001b[32m months from the promulgation of this policy.  \\nIII. The NAIF shall undertake  all the responsibilities and\u001b[0m\n",
       "\u001b[32mimplement guidelines as stipulated in this \\npolicy or as directed by the Federal Government of Pakistan via the \u001b[0m\n",
       "\u001b[32mMinistry of IT & Telecom from \\ntime to time.'\u001b[0m\n",
       "        \u001b[1m)\u001b[0m,\n",
       "        \u001b[1;36m0.9070492140470734\u001b[0m\n",
       "    \u001b[1m)\u001b[0m,\n",
       "    \u001b[1m(\u001b[0m\n",
       "        \u001b[1;35mDocument\u001b[0m\u001b[1m(\u001b[0m\n",
       "            \u001b[33mmetadata\u001b[0m=\u001b[1m{\u001b[0m\u001b[32m'page'\u001b[0m: \u001b[32m'11.0'\u001b[0m, \u001b[32m'source'\u001b[0m: \u001b[32m'National AI Policy Consultation Draft.pdf'\u001b[0m\u001b[1m}\u001b[0m,\n",
       "            \u001b[33mpage_content\u001b[0m=\u001b[32m'advanced technologies in AI and Data Science \\nwhile incorporating PWDs and marginalized \u001b[0m\n",
       "\u001b[32m\\nWomen through inclusion in Digis kills.pk \\nProgram and other such initiatives in the \\nprovinces.  By 2024  \\n2.\u001b[0m\n",
       "\u001b[32mAI Market \\nEnablement  Target -5 National AI Fund  The Ignite Technology Fund is mandated to \\nbroadly support R&D\u001b[0m\n",
       "\u001b[32mInitiatives, \\nEntrepreneurship, and Skill Development in \\nICTs.  \\nThere is no special provision for Hi -Tech, \u001b[0m\n",
       "\u001b[32m\\nespecially AI and allied Technologies, at \\npresent.  To establish National AI Fund for supporting \\nHi-Tech \u001b[0m\n",
       "\u001b[32minitiatives in AI and Allied \\nTechnologies nationwide as a spin -off of \\nIgnite Technology Fund.  \\n By 2023  \\n \u001b[0m\n",
       "\u001b[32m\\nTarget -6 Center of \\nExcellence in AI & \\nAllied Technologies  National Centers for AI are playing an \u001b[0m\n",
       "\u001b[32m\\nessential role in applied R&D in AI at leading \\nacademic institutions for higher education \\nin Karachi, Lahore,\u001b[0m\n",
       "\u001b[32mand Islamabad.  \\nSino -Pak Center for Artificial Int elligence at \\nPAF-IAST, Haripur, is also making tangible'\u001b[0m\n",
       "        \u001b[1m)\u001b[0m,\n",
       "        \u001b[1;36m0.8685352441807275\u001b[0m\n",
       "    \u001b[1m)\u001b[0m,\n",
       "    \u001b[1m(\u001b[0m\n",
       "        \u001b[1;35mDocument\u001b[0m\u001b[1m(\u001b[0m\n",
       "            \u001b[33mmetadata\u001b[0m=\u001b[1m{\u001b[0m\u001b[32m'page'\u001b[0m: \u001b[32m'6.0'\u001b[0m, \u001b[32m'source'\u001b[0m: \u001b[32m'National AI Policy Consultation Draft.pdf'\u001b[0m\u001b[1m}\u001b[0m,\n",
       "            \u001b[33mpage_content\u001b[0m=\u001b[32m'register  notable efforts  through public/private interventions as follows : \\n• \u001b[0m\n",
       "\u001b[32mPresidential Initiative for Artificial Intelligence & Computing \u001b[0m\u001b[32m(\u001b[0m\u001b[32m PIAIC \u001b[0m\u001b[32m)\u001b[0m\u001b[32m \\n• Center for Artificial Intelligence \u001b[0m\n",
       "\u001b[32mand Computing \u001b[0m\u001b[32m(\u001b[0m\u001b[32m CENTAIC\u001b[0m\u001b[32m)\u001b[0m\u001b[32m  \\n• National Center of Artificial Intelligence \u001b[0m\u001b[32m(\u001b[0m\u001b[32mNCAI\u001b[0m\u001b[32m)\u001b[0m\u001b[32m   \\n• Sino -Pak Center for \u001b[0m\n",
       "\u001b[32mArtificial Intelligence  \u001b[0m\u001b[32m(\u001b[0m\u001b[32mSPCAI\u001b[0m\u001b[32m)\u001b[0m\u001b[32m  \\nThese  timely  initiatives have performed well in their domains and need \u001b[0m\n",
       "\u001b[32mcontinuity to achieve long -term \\ntargets. To achieve  the AI-accelerated  socio -economic development urgently \u001b[0m\n",
       "\u001b[32mrequired by Pakistan and its \\nactual impact on the GDP of the country , a national strategy for AI adoption is \u001b[0m\n",
       "\u001b[32mcritical . The AI policy provides \\na holistic structure , by the societal challenges regarding AI adoption can be \u001b[0m\n",
       "\u001b[32maddressed by establishing the \\nnecessary  ecosystem with specialized initiatives  and organizational \u001b[0m\n",
       "\u001b[32mresponsibilities. The policy proposes \\nthe National AI fund as a perpetual and central fund to support the \u001b[0m\n",
       "\u001b[32mproposed interventions .'\u001b[0m\n",
       "        \u001b[1m)\u001b[0m,\n",
       "        \u001b[1;36m0.8550270507206236\u001b[0m\n",
       "    \u001b[1m)\u001b[0m\n",
       "\u001b[1m]\u001b[0m\n"
      ]
     },
     "metadata": {},
     "output_type": "display_data"
    }
   ],
   "source": [
    "query = \"What are the objectives of National AI Fund?\"\n",
    "\n",
    "retrieved_docs = astra_vector_store.similarity_search_with_relevance_scores(query=query, k=3)\n",
    "print(retrieved_docs)"
   ]
  },
  {
   "cell_type": "code",
   "execution_count": 31,
   "metadata": {},
   "outputs": [],
   "source": [
    "# deleting the collection\n",
    "# astra_vector_store.delete_collection()"
   ]
  }
 ],
 "metadata": {
  "kernelspec": {
   "display_name": "Python 3",
   "language": "python",
   "name": "python3"
  },
  "language_info": {
   "codemirror_mode": {
    "name": "ipython",
    "version": 3
   },
   "file_extension": ".py",
   "mimetype": "text/x-python",
   "name": "python",
   "nbconvert_exporter": "python",
   "pygments_lexer": "ipython3",
   "version": "3.11.0"
  }
 },
 "nbformat": 4,
 "nbformat_minor": 2
}
